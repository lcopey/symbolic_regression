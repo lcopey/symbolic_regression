{
 "cells": [
  {
   "cell_type": "code",
   "execution_count": 1,
   "id": "617fa21b-74e2-4daa-9b53-1ff34e22ab53",
   "metadata": {
    "tags": []
   },
   "outputs": [],
   "source": [
    "from scipy.special import erfc"
   ]
  },
  {
   "cell_type": "code",
   "execution_count": 2,
   "id": "6f6e084d-8424-4230-a8a4-c2437756255c",
   "metadata": {
    "tags": []
   },
   "outputs": [],
   "source": [
    "import numpy as np\n",
    "from pysr import PySRRegressor\n",
    "import plotly.express as px\n",
    "import plotly.graph_objects as go\n",
    "import pandas as pd"
   ]
  },
  {
   "cell_type": "code",
   "execution_count": 3,
   "id": "c3242603-4648-4161-b261-af148d74b2ff",
   "metadata": {
    "tags": []
   },
   "outputs": [],
   "source": [
    "def emg(x, mu, sigma, lambda_):\n",
    "    return (\n",
    "        (lambda_ / 2) * np.exp(\n",
    "            (lambda_ / 2) * (2*mu + lambda_ * sigma**2 - 2*x)   \n",
    "    ) *\n",
    "        erfc(\n",
    "            (mu + lambda_ * sigma ** 2 - x) / (np.sqrt(2) * sigma)\n",
    "        )\n",
    "    )"
   ]
  },
  {
   "cell_type": "code",
   "execution_count": 4,
   "id": "be49b593-ca0d-46a4-9d7e-f3b7a8e47afd",
   "metadata": {
    "tags": []
   },
   "outputs": [],
   "source": [
    "bounds = [(-3, 3), (-2, 2), (1, 5), (1, 2)]"
   ]
  },
  {
   "cell_type": "code",
   "execution_count": 5,
   "id": "bcc2b006-72a7-4e30-88e7-e6d59ef1a166",
   "metadata": {
    "tags": []
   },
   "outputs": [],
   "source": [
    "def generate(bound, n):\n",
    "    xmin, xmax = bound\n",
    "    return np.random.rand(n) * (xmax - xmin) + xmin"
   ]
  },
  {
   "cell_type": "code",
   "execution_count": 6,
   "id": "611a049c-7a98-4248-b653-04ebee78a895",
   "metadata": {
    "tags": []
   },
   "outputs": [],
   "source": [
    "X = pd.DataFrame(np.stack([generate(bound, 50) for bound in bounds]), index=('x', 'mu', 'sigma', 'lambda')).T\n",
    "y = emg(X['x'], X['mu'], X['sigma'], X['lambda'])\n",
    "\n",
    "X = X.values\n",
    "y = y.values"
   ]
  },
  {
   "cell_type": "code",
   "execution_count": 7,
   "id": "9127e720-b5c1-45b6-9e73-439e474a1660",
   "metadata": {
    "tags": []
   },
   "outputs": [],
   "source": [
    "model = PySRRegressor(\n",
    "    niterations=1000,  # < Increase me for better results\n",
    "    binary_operators=[\"+\", \"*\", \"/\"],\n",
    "    unary_operators=[\n",
    "        \"exp\",\n",
    "        \"erfc\",\n",
    "        \"square(x)=x^2\",\n",
    "        # ^ Custom operator (julia syntax)\n",
    "    ],\n",
    "    extra_sympy_mappings={\"square\": lambda x: x**2, },\n",
    "    # ^ Define operator for SymPy as well\n",
    "    loss=\"loss(prediction, target) = (prediction - target)^2\",\n",
    "    # ^ Custom loss function (julia syntax)\n",
    ")"
   ]
  },
  {
   "cell_type": "code",
   "execution_count": null,
   "id": "cc447ac2-e92b-4a42-bc2e-6047a036bb3a",
   "metadata": {
    "tags": []
   },
   "outputs": [
    {
     "name": "stderr",
     "output_type": "stream",
     "text": [
      "/home/laurent/miniconda3/envs/pysr_env/lib/python3.11/site-packages/pysr/sr.py:1346: UserWarning: Note: it looks like you are running in Jupyter. The progress bar will be turned off.\n",
      "  warnings.warn(\n"
     ]
    },
    {
     "name": "stdout",
     "output_type": "stream",
     "text": [
      "Compiling Julia backend...\n"
     ]
    },
    {
     "name": "stderr",
     "output_type": "stream",
     "text": [
      "/home/laurent/miniconda3/envs/pysr_env/lib/python3.11/site-packages/pysr/julia_helpers.py:208: UserWarning: Your system's Python library is static (e.g., conda), so precompilation will be turned off. For a dynamic library, try using `pyenv` and installing with `--enable-shared`: https://github.com/pyenv/pyenv/blob/master/plugins/python-build/README.md#building-with---enable-shared.\n",
      "  warnings.warn(\n"
     ]
    }
   ],
   "source": [
    "model.fit(X, y)"
   ]
  },
  {
   "cell_type": "code",
   "execution_count": null,
   "id": "805825e4-f5df-419a-8c27-1a12d295fb99",
   "metadata": {
    "tags": []
   },
   "outputs": [],
   "source": [
    "model.sympy()"
   ]
  },
  {
   "cell_type": "code",
   "execution_count": null,
   "id": "55c4e6b3-eb16-402b-9cb6-daeb2cd599c9",
   "metadata": {
    "tags": []
   },
   "outputs": [],
   "source": [
    "go.Figure(\n",
    "    go.Scatter(x=y, y=model.predict(X))\n",
    ")"
   ]
  }
 ],
 "metadata": {
  "kernelspec": {
   "display_name": "Python 3 (ipykernel)",
   "language": "python",
   "name": "python3"
  },
  "language_info": {
   "codemirror_mode": {
    "name": "ipython",
    "version": 3
   },
   "file_extension": ".py",
   "mimetype": "text/x-python",
   "name": "python",
   "nbconvert_exporter": "python",
   "pygments_lexer": "ipython3",
   "version": "3.11.6"
  }
 },
 "nbformat": 4,
 "nbformat_minor": 5
}
