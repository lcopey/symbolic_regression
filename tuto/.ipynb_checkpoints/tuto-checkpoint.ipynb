{
 "cells": [
  {
   "cell_type": "code",
   "execution_count": 3,
   "id": "61a18a95-a177-4e64-b22f-71303679c370",
   "metadata": {
    "tags": []
   },
   "outputs": [],
   "source": [
    "from pysr import PySRRegressor"
   ]
  },
  {
   "cell_type": "code",
   "execution_count": 4,
   "id": "b4a2fa72-4071-4c64-8d98-d2396543cfd9",
   "metadata": {
    "tags": []
   },
   "outputs": [],
   "source": [
    "import numpy as np\n",
    "\n",
    "X = 2 * np.random.randn(100, 5)\n",
    "y = 2.5382 * np.cos(X[:, 3]) + X[:, 0] ** 2 - 0.5"
   ]
  },
  {
   "cell_type": "code",
   "execution_count": 5,
   "id": "81eef5d4-8b9b-4e83-9ba5-a7e530396b81",
   "metadata": {
    "tags": []
   },
   "outputs": [],
   "source": [
    "model = PySRRegressor(\n",
    "    niterations=40,  # < Increase me for better results\n",
    "    binary_operators=[\"+\", \"*\"],\n",
    "    unary_operators=[\n",
    "        \"cos\",\n",
    "        \"exp\",\n",
    "        \"sin\",\n",
    "        \"inv(x) = 1/x\",\n",
    "        # ^ Custom operator (julia syntax)\n",
    "    ],\n",
    "    extra_sympy_mappings={\"inv\": lambda x: 1 / x},\n",
    "    # ^ Define operator for SymPy as well\n",
    "    loss=\"loss(prediction, target) = (prediction - target)^2\",\n",
    "    # ^ Custom loss function (julia syntax)\n",
    ")"
   ]
  },
  {
   "cell_type": "code",
   "execution_count": 6,
   "id": "fd0f7ca5-8195-4b6a-8338-0548757a85d1",
   "metadata": {
    "tags": []
   },
   "outputs": [
    {
     "name": "stderr",
     "output_type": "stream",
     "text": [
      "/home/laurent/miniconda3/envs/pysr_env/lib/python3.11/site-packages/pysr/sr.py:1346: UserWarning: Note: it looks like you are running in Jupyter. The progress bar will be turned off.\n",
      "  warnings.warn(\n"
     ]
    },
    {
     "name": "stdout",
     "output_type": "stream",
     "text": [
      "Compiling Julia backend...\n"
     ]
    },
    {
     "name": "stderr",
     "output_type": "stream",
     "text": [
      "/home/laurent/miniconda3/envs/pysr_env/lib/python3.11/site-packages/pysr/julia_helpers.py:208: UserWarning: Your system's Python library is static (e.g., conda), so precompilation will be turned off. For a dynamic library, try using `pyenv` and installing with `--enable-shared`: https://github.com/pyenv/pyenv/blob/master/plugins/python-build/README.md#building-with---enable-shared.\n",
      "  warnings.warn(\n"
     ]
    },
    {
     "name": "stdout",
     "output_type": "stream",
     "text": [
      "Started!\n"
     ]
    },
    {
     "data": {
      "text/html": [
       "<style>#sk-container-id-1 {color: black;}#sk-container-id-1 pre{padding: 0;}#sk-container-id-1 div.sk-toggleable {background-color: white;}#sk-container-id-1 label.sk-toggleable__label {cursor: pointer;display: block;width: 100%;margin-bottom: 0;padding: 0.3em;box-sizing: border-box;text-align: center;}#sk-container-id-1 label.sk-toggleable__label-arrow:before {content: \"▸\";float: left;margin-right: 0.25em;color: #696969;}#sk-container-id-1 label.sk-toggleable__label-arrow:hover:before {color: black;}#sk-container-id-1 div.sk-estimator:hover label.sk-toggleable__label-arrow:before {color: black;}#sk-container-id-1 div.sk-toggleable__content {max-height: 0;max-width: 0;overflow: hidden;text-align: left;background-color: #f0f8ff;}#sk-container-id-1 div.sk-toggleable__content pre {margin: 0.2em;color: black;border-radius: 0.25em;background-color: #f0f8ff;}#sk-container-id-1 input.sk-toggleable__control:checked~div.sk-toggleable__content {max-height: 200px;max-width: 100%;overflow: auto;}#sk-container-id-1 input.sk-toggleable__control:checked~label.sk-toggleable__label-arrow:before {content: \"▾\";}#sk-container-id-1 div.sk-estimator input.sk-toggleable__control:checked~label.sk-toggleable__label {background-color: #d4ebff;}#sk-container-id-1 div.sk-label input.sk-toggleable__control:checked~label.sk-toggleable__label {background-color: #d4ebff;}#sk-container-id-1 input.sk-hidden--visually {border: 0;clip: rect(1px 1px 1px 1px);clip: rect(1px, 1px, 1px, 1px);height: 1px;margin: -1px;overflow: hidden;padding: 0;position: absolute;width: 1px;}#sk-container-id-1 div.sk-estimator {font-family: monospace;background-color: #f0f8ff;border: 1px dotted black;border-radius: 0.25em;box-sizing: border-box;margin-bottom: 0.5em;}#sk-container-id-1 div.sk-estimator:hover {background-color: #d4ebff;}#sk-container-id-1 div.sk-parallel-item::after {content: \"\";width: 100%;border-bottom: 1px solid gray;flex-grow: 1;}#sk-container-id-1 div.sk-label:hover label.sk-toggleable__label {background-color: #d4ebff;}#sk-container-id-1 div.sk-serial::before {content: \"\";position: absolute;border-left: 1px solid gray;box-sizing: border-box;top: 0;bottom: 0;left: 50%;z-index: 0;}#sk-container-id-1 div.sk-serial {display: flex;flex-direction: column;align-items: center;background-color: white;padding-right: 0.2em;padding-left: 0.2em;position: relative;}#sk-container-id-1 div.sk-item {position: relative;z-index: 1;}#sk-container-id-1 div.sk-parallel {display: flex;align-items: stretch;justify-content: center;background-color: white;position: relative;}#sk-container-id-1 div.sk-item::before, #sk-container-id-1 div.sk-parallel-item::before {content: \"\";position: absolute;border-left: 1px solid gray;box-sizing: border-box;top: 0;bottom: 0;left: 50%;z-index: -1;}#sk-container-id-1 div.sk-parallel-item {display: flex;flex-direction: column;z-index: 1;position: relative;background-color: white;}#sk-container-id-1 div.sk-parallel-item:first-child::after {align-self: flex-end;width: 50%;}#sk-container-id-1 div.sk-parallel-item:last-child::after {align-self: flex-start;width: 50%;}#sk-container-id-1 div.sk-parallel-item:only-child::after {width: 0;}#sk-container-id-1 div.sk-dashed-wrapped {border: 1px dashed gray;margin: 0 0.4em 0.5em 0.4em;box-sizing: border-box;padding-bottom: 0.4em;background-color: white;}#sk-container-id-1 div.sk-label label {font-family: monospace;font-weight: bold;display: inline-block;line-height: 1.2em;}#sk-container-id-1 div.sk-label-container {text-align: center;}#sk-container-id-1 div.sk-container {/* jupyter's `normalize.less` sets `[hidden] { display: none; }` but bootstrap.min.css set `[hidden] { display: none !important; }` so we also need the `!important` here to be able to override the default hidden behavior on the sphinx rendered scikit-learn.org. See: https://github.com/scikit-learn/scikit-learn/issues/21755 */display: inline-block !important;position: relative;}#sk-container-id-1 div.sk-text-repr-fallback {display: none;}</style><div id=\"sk-container-id-1\" class=\"sk-top-container\"><div class=\"sk-text-repr-fallback\"><pre>PySRRegressor.equations_ = [\n",
       "\t   pick      score                                           equation  \\\n",
       "\t0         0.000000                                          2.9792666   \n",
       "\t1         0.950682                                          (x0 * x0)   \n",
       "\t2         0.019709                          (x0 * (x0 + -0.20481545))   \n",
       "\t3         0.914669                              ((x0 * x0) + cos(x3))   \n",
       "\t4         0.842116                ((x0 * x0) + (cos(x3) * 2.3879626))   \n",
       "\t5         0.008415           ((x0 * x0) + (sin(cos(x3)) * 2.6830819))   \n",
       "\t6  &gt;&gt;&gt;&gt;  27.785706   ((x0 * x0) + ((cos(x3) * 2.5382) + -0.50000006))   \n",
       "\t7         0.019569  (((x0 * x0) + cos(x3)) + ((inv(inv(cos(x3))) *...   \n",
       "\t\n",
       "\t           loss  complexity  \n",
       "\t0  2.227018e+01           1  \n",
       "\t1  3.326381e+00           3  \n",
       "\t2  3.197815e+00           5  \n",
       "\t3  1.281203e+00           6  \n",
       "\t4  2.377742e-01           8  \n",
       "\t5  2.357819e-01           9  \n",
       "\t6  2.019908e-13          10  \n",
       "\t7  1.831635e-13          15  \n",
       "]</pre><b>In a Jupyter environment, please rerun this cell to show the HTML representation or trust the notebook. <br />On GitHub, the HTML representation is unable to render, please try loading this page with nbviewer.org.</b></div><div class=\"sk-container\" hidden><div class=\"sk-item\"><div class=\"sk-estimator sk-toggleable\"><input class=\"sk-toggleable__control sk-hidden--visually\" id=\"sk-estimator-id-1\" type=\"checkbox\" checked><label for=\"sk-estimator-id-1\" class=\"sk-toggleable__label sk-toggleable__label-arrow\">PySRRegressor</label><div class=\"sk-toggleable__content\"><pre>PySRRegressor.equations_ = [\n",
       "\t   pick      score                                           equation  \\\n",
       "\t0         0.000000                                          2.9792666   \n",
       "\t1         0.950682                                          (x0 * x0)   \n",
       "\t2         0.019709                          (x0 * (x0 + -0.20481545))   \n",
       "\t3         0.914669                              ((x0 * x0) + cos(x3))   \n",
       "\t4         0.842116                ((x0 * x0) + (cos(x3) * 2.3879626))   \n",
       "\t5         0.008415           ((x0 * x0) + (sin(cos(x3)) * 2.6830819))   \n",
       "\t6  &gt;&gt;&gt;&gt;  27.785706   ((x0 * x0) + ((cos(x3) * 2.5382) + -0.50000006))   \n",
       "\t7         0.019569  (((x0 * x0) + cos(x3)) + ((inv(inv(cos(x3))) *...   \n",
       "\t\n",
       "\t           loss  complexity  \n",
       "\t0  2.227018e+01           1  \n",
       "\t1  3.326381e+00           3  \n",
       "\t2  3.197815e+00           5  \n",
       "\t3  1.281203e+00           6  \n",
       "\t4  2.377742e-01           8  \n",
       "\t5  2.357819e-01           9  \n",
       "\t6  2.019908e-13          10  \n",
       "\t7  1.831635e-13          15  \n",
       "]</pre></div></div></div></div></div>"
      ],
      "text/plain": [
       "PySRRegressor.equations_ = [\n",
       "\t   pick      score                                           equation  \\\n",
       "\t0         0.000000                                          2.9792666   \n",
       "\t1         0.950682                                          (x0 * x0)   \n",
       "\t2         0.019709                          (x0 * (x0 + -0.20481545))   \n",
       "\t3         0.914669                              ((x0 * x0) + cos(x3))   \n",
       "\t4         0.842116                ((x0 * x0) + (cos(x3) * 2.3879626))   \n",
       "\t5         0.008415           ((x0 * x0) + (sin(cos(x3)) * 2.6830819))   \n",
       "\t6  >>>>  27.785706   ((x0 * x0) + ((cos(x3) * 2.5382) + -0.50000006))   \n",
       "\t7         0.019569  (((x0 * x0) + cos(x3)) + ((inv(inv(cos(x3))) *...   \n",
       "\t\n",
       "\t           loss  complexity  \n",
       "\t0  2.227018e+01           1  \n",
       "\t1  3.326381e+00           3  \n",
       "\t2  3.197815e+00           5  \n",
       "\t3  1.281203e+00           6  \n",
       "\t4  2.377742e-01           8  \n",
       "\t5  2.357819e-01           9  \n",
       "\t6  2.019908e-13          10  \n",
       "\t7  1.831635e-13          15  \n",
       "]"
      ]
     },
     "execution_count": 6,
     "metadata": {},
     "output_type": "execute_result"
    }
   ],
   "source": [
    "model.fit(X, y)"
   ]
  }
 ],
 "metadata": {
  "kernelspec": {
   "display_name": "Python 3 (ipykernel)",
   "language": "python",
   "name": "python3"
  },
  "language_info": {
   "codemirror_mode": {
    "name": "ipython",
    "version": 3
   },
   "file_extension": ".py",
   "mimetype": "text/x-python",
   "name": "python",
   "nbconvert_exporter": "python",
   "pygments_lexer": "ipython3",
   "version": "3.11.6"
  }
 },
 "nbformat": 4,
 "nbformat_minor": 5
}
