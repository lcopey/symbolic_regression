{
 "cells": [
  {
   "cell_type": "code",
   "execution_count": 59,
   "id": "62c016ec-3808-4eb0-8ee2-9d677bfd40a8",
   "metadata": {
    "tags": []
   },
   "outputs": [],
   "source": [
    "import numpy as np\n",
    "from pysr import PySRRegressor\n",
    "import plotly.express as px\n",
    "import plotly.graph_objects as go\n",
    "import pandas as pd"
   ]
  },
  {
   "cell_type": "code",
   "execution_count": 87,
   "id": "a4f9eef4-8cef-4a14-9283-b3be2257bf28",
   "metadata": {
    "tags": []
   },
   "outputs": [],
   "source": [
    "dataset = []\n",
    "for n in range(5):\n",
    "    current = pd.DataFrame(np.linspace(-3, 3, 10), columns=['x'])\n",
    "    current['mu'] = n - 2\n",
    "    dataset.append(current)\n",
    "dataset = pd.concat(dataset, ignore_index=True)\n",
    "dataset['sigma'] = np.random.choice([1, 2, 3], size=dataset.shape[0])\n",
    "dataset['a'] = 1 - np.random.rand(dataset.shape[0]) / 10\n",
    "\n",
    "dataset['y'] = dataset['a'] * np.exp(-(dataset.x-dataset.mu)**2 / (2 * dataset.sigma ** 2))"
   ]
  },
  {
   "cell_type": "code",
   "execution_count": 88,
   "id": "389e8c3b-d659-440b-9336-711aa0b67472",
   "metadata": {
    "tags": []
   },
   "outputs": [],
   "source": [
    "X = dataset[['x', 'mu', 'sigma', 'a']].values\n",
    "y = dataset['y'].values"
   ]
  },
  {
   "cell_type": "code",
   "execution_count": 89,
   "id": "21e7209e-dcee-47ef-9688-a4b4aa6ecca6",
   "metadata": {
    "tags": []
   },
   "outputs": [
    {
     "data": {
      "application/vnd.plotly.v1+json": {
       "config": {
        "plotlyServerURL": "https://plot.ly"
       },
       "data": [
        {
         "hovertemplate": "mu=-2<br>sigma=1<br>x=%{x}<br>y=%{y}<extra></extra>",
         "legendgroup": "-2, 1",
         "line": {
          "color": "#636efa",
          "dash": "solid"
         },
         "marker": {
          "symbol": "circle"
         },
         "mode": "lines",
         "name": "-2, 1",
         "orientation": "v",
         "showlegend": true,
         "type": "scatter",
         "x": [
          -3,
          -2.3333333333333335,
          0.33333333333333304,
          1.666666666666666,
          3
         ],
         "xaxis": "x",
         "y": [
          0.5601247513498804,
          0.8927762361396243,
          0.06064176346985677,
          0.001120381658626057,
          3.480261570835291e-06
         ],
         "yaxis": "y"
        },
        {
         "hovertemplate": "mu=-2<br>sigma=2<br>x=%{x}<br>y=%{y}<extra></extra>",
         "legendgroup": "-2, 2",
         "line": {
          "color": "#636efa",
          "dash": "dot"
         },
         "marker": {
          "symbol": "circle"
         },
         "mode": "lines",
         "name": "-2, 2",
         "orientation": "v",
         "showlegend": true,
         "type": "scatter",
         "x": [
          -1.6666666666666667
         ],
         "xaxis": "x",
         "y": [
          0.9209188061610015
         ],
         "yaxis": "y"
        },
        {
         "hovertemplate": "mu=-2<br>sigma=3<br>x=%{x}<br>y=%{y}<extra></extra>",
         "legendgroup": "-2, 3",
         "line": {
          "color": "#636efa",
          "dash": "dash"
         },
         "marker": {
          "symbol": "circle"
         },
         "mode": "lines",
         "name": "-2, 3",
         "orientation": "v",
         "showlegend": true,
         "type": "scatter",
         "x": [
          -1,
          -0.3333333333333335,
          1,
          2.333333333333333
         ],
         "xaxis": "x",
         "y": [
          0.9379477624146506,
          0.8190863983171154,
          0.5639010197455205,
          0.3409971336281181
         ],
         "yaxis": "y"
        },
        {
         "hovertemplate": "mu=-1<br>sigma=1<br>x=%{x}<br>y=%{y}<extra></extra>",
         "legendgroup": "-1, 1",
         "line": {
          "color": "#EF553B",
          "dash": "solid"
         },
         "marker": {
          "symbol": "circle"
         },
         "mode": "lines",
         "name": "-1, 1",
         "orientation": "v",
         "showlegend": true,
         "type": "scatter",
         "x": [
          -0.3333333333333335,
          1.666666666666666
         ],
         "xaxis": "x",
         "y": [
          0.7866606235064374,
          0.02817789988298872
         ],
         "yaxis": "y"
        },
        {
         "hovertemplate": "mu=-1<br>sigma=2<br>x=%{x}<br>y=%{y}<extra></extra>",
         "legendgroup": "-1, 2",
         "line": {
          "color": "#EF553B",
          "dash": "dot"
         },
         "marker": {
          "symbol": "circle"
         },
         "mode": "lines",
         "name": "-1, 2",
         "orientation": "v",
         "showlegend": true,
         "type": "scatter",
         "x": [
          -2.3333333333333335,
          -1.6666666666666667,
          0.33333333333333304,
          3
         ],
         "xaxis": "x",
         "y": [
          0.7308428794047465,
          0.893362783972529,
          0.7509203523112622,
          0.12493393702522995
         ],
         "yaxis": "y"
        },
        {
         "hovertemplate": "mu=-1<br>sigma=3<br>x=%{x}<br>y=%{y}<extra></extra>",
         "legendgroup": "-1, 3",
         "line": {
          "color": "#EF553B",
          "dash": "dash"
         },
         "marker": {
          "symbol": "circle"
         },
         "mode": "lines",
         "name": "-1, 3",
         "orientation": "v",
         "showlegend": true,
         "type": "scatter",
         "x": [
          -3,
          -1,
          1,
          2.333333333333333
         ],
         "xaxis": "x",
         "y": [
          0.7220852347243677,
          0.9755343269926525,
          0.7663020258315317,
          0.4929164649853518
         ],
         "yaxis": "y"
        },
        {
         "hovertemplate": "mu=0<br>sigma=1<br>x=%{x}<br>y=%{y}<extra></extra>",
         "legendgroup": "0, 1",
         "line": {
          "color": "#00cc96",
          "dash": "solid"
         },
         "marker": {
          "symbol": "circle"
         },
         "mode": "lines",
         "name": "0, 1",
         "orientation": "v",
         "showlegend": true,
         "type": "scatter",
         "x": [
          1.666666666666666,
          3
         ],
         "xaxis": "x",
         "y": [
          0.24810259204982288,
          0.010364763429160234
         ],
         "yaxis": "y"
        },
        {
         "hovertemplate": "mu=0<br>sigma=2<br>x=%{x}<br>y=%{y}<extra></extra>",
         "legendgroup": "0, 2",
         "line": {
          "color": "#00cc96",
          "dash": "dot"
         },
         "marker": {
          "symbol": "circle"
         },
         "mode": "lines",
         "name": "0, 2",
         "orientation": "v",
         "showlegend": true,
         "type": "scatter",
         "x": [
          -1.6666666666666667,
          -1,
          0.33333333333333304,
          1,
          2.333333333333333
         ],
         "xaxis": "x",
         "y": [
          0.6407387538536603,
          0.876691108806051,
          0.9496171822749984,
          0.7971018990837689,
          0.47019979563290176
         ],
         "yaxis": "y"
        },
        {
         "hovertemplate": "mu=0<br>sigma=3<br>x=%{x}<br>y=%{y}<extra></extra>",
         "legendgroup": "0, 3",
         "line": {
          "color": "#00cc96",
          "dash": "dash"
         },
         "marker": {
          "symbol": "circle"
         },
         "mode": "lines",
         "name": "0, 3",
         "orientation": "v",
         "showlegend": true,
         "type": "scatter",
         "x": [
          -3,
          -2.3333333333333335,
          -0.3333333333333335
         ],
         "xaxis": "x",
         "y": [
          0.59936650134328,
          0.7248940324635261,
          0.9247662240292163
         ],
         "yaxis": "y"
        },
        {
         "hovertemplate": "mu=1<br>sigma=1<br>x=%{x}<br>y=%{y}<extra></extra>",
         "legendgroup": "1, 1",
         "line": {
          "color": "#ab63fa",
          "dash": "solid"
         },
         "marker": {
          "symbol": "circle"
         },
         "mode": "lines",
         "name": "1, 1",
         "orientation": "v",
         "showlegend": true,
         "type": "scatter",
         "x": [
          -2.3333333333333335,
          -1,
          1.666666666666666,
          3
         ],
         "xaxis": "x",
         "y": [
          0.003756397108192632,
          0.12241162690882547,
          0.7705884016170799,
          0.12721951885846455
         ],
         "yaxis": "y"
        },
        {
         "hovertemplate": "mu=1<br>sigma=2<br>x=%{x}<br>y=%{y}<extra></extra>",
         "legendgroup": "1, 2",
         "line": {
          "color": "#ab63fa",
          "dash": "dot"
         },
         "marker": {
          "symbol": "circle"
         },
         "mode": "lines",
         "name": "1, 2",
         "orientation": "v",
         "showlegend": true,
         "type": "scatter",
         "x": [
          -1.6666666666666667,
          -0.3333333333333335,
          0.33333333333333304,
          2.333333333333333
         ],
         "xaxis": "x",
         "y": [
          0.4076670857507933,
          0.7292116745063867,
          0.8745154175234552,
          0.7426306494296258
         ],
         "yaxis": "y"
        },
        {
         "hovertemplate": "mu=1<br>sigma=3<br>x=%{x}<br>y=%{y}<extra></extra>",
         "legendgroup": "1, 3",
         "line": {
          "color": "#ab63fa",
          "dash": "dash"
         },
         "marker": {
          "symbol": "circle"
         },
         "mode": "lines",
         "name": "1, 3",
         "orientation": "v",
         "showlegend": true,
         "type": "scatter",
         "x": [
          -3,
          1
         ],
         "xaxis": "x",
         "y": [
          0.3885195030073219,
          0.9658254666791477
         ],
         "yaxis": "y"
        },
        {
         "hovertemplate": "mu=2<br>sigma=1<br>x=%{x}<br>y=%{y}<extra></extra>",
         "legendgroup": "2, 1",
         "line": {
          "color": "#FFA15A",
          "dash": "solid"
         },
         "marker": {
          "symbol": "circle"
         },
         "mode": "lines",
         "name": "2, 1",
         "orientation": "v",
         "showlegend": true,
         "type": "scatter",
         "x": [
          -2.3333333333333335
         ],
         "xaxis": "x",
         "y": [
          8.12642482684033e-05
         ],
         "yaxis": "y"
        },
        {
         "hovertemplate": "mu=2<br>sigma=2<br>x=%{x}<br>y=%{y}<extra></extra>",
         "legendgroup": "2, 2",
         "line": {
          "color": "#FFA15A",
          "dash": "dot"
         },
         "marker": {
          "symbol": "circle"
         },
         "mode": "lines",
         "name": "2, 2",
         "orientation": "v",
         "showlegend": true,
         "type": "scatter",
         "x": [
          -0.3333333333333335,
          0.33333333333333304,
          2.333333333333333
         ],
         "xaxis": "x",
         "y": [
          0.47993736243040175,
          0.6807802433728334,
          0.9015356734040402
         ],
         "yaxis": "y"
        },
        {
         "hovertemplate": "mu=2<br>sigma=3<br>x=%{x}<br>y=%{y}<extra></extra>",
         "legendgroup": "2, 3",
         "line": {
          "color": "#FFA15A",
          "dash": "dash"
         },
         "marker": {
          "symbol": "circle"
         },
         "mode": "lines",
         "name": "2, 3",
         "orientation": "v",
         "showlegend": true,
         "type": "scatter",
         "x": [
          -3,
          -1.6666666666666667,
          -1,
          1,
          1.666666666666666,
          3
         ],
         "xaxis": "x",
         "y": [
          0.23558922324718684,
          0.46742816388647196,
          0.5601380466826922,
          0.9126780196131634,
          0.9700802468337884,
          0.9047787121652325
         ],
         "yaxis": "y"
        }
       ],
       "layout": {
        "autosize": true,
        "legend": {
         "title": {
          "text": "mu, sigma"
         },
         "tracegroupgap": 0
        },
        "margin": {
         "t": 60
        },
        "template": {
         "data": {
          "bar": [
           {
            "error_x": {
             "color": "#2a3f5f"
            },
            "error_y": {
             "color": "#2a3f5f"
            },
            "marker": {
             "line": {
              "color": "#E5ECF6",
              "width": 0.5
             },
             "pattern": {
              "fillmode": "overlay",
              "size": 10,
              "solidity": 0.2
             }
            },
            "type": "bar"
           }
          ],
          "barpolar": [
           {
            "marker": {
             "line": {
              "color": "#E5ECF6",
              "width": 0.5
             },
             "pattern": {
              "fillmode": "overlay",
              "size": 10,
              "solidity": 0.2
             }
            },
            "type": "barpolar"
           }
          ],
          "carpet": [
           {
            "aaxis": {
             "endlinecolor": "#2a3f5f",
             "gridcolor": "white",
             "linecolor": "white",
             "minorgridcolor": "white",
             "startlinecolor": "#2a3f5f"
            },
            "baxis": {
             "endlinecolor": "#2a3f5f",
             "gridcolor": "white",
             "linecolor": "white",
             "minorgridcolor": "white",
             "startlinecolor": "#2a3f5f"
            },
            "type": "carpet"
           }
          ],
          "choropleth": [
           {
            "colorbar": {
             "outlinewidth": 0,
             "ticks": ""
            },
            "type": "choropleth"
           }
          ],
          "contour": [
           {
            "colorbar": {
             "outlinewidth": 0,
             "ticks": ""
            },
            "colorscale": [
             [
              0,
              "#0d0887"
             ],
             [
              0.1111111111111111,
              "#46039f"
             ],
             [
              0.2222222222222222,
              "#7201a8"
             ],
             [
              0.3333333333333333,
              "#9c179e"
             ],
             [
              0.4444444444444444,
              "#bd3786"
             ],
             [
              0.5555555555555556,
              "#d8576b"
             ],
             [
              0.6666666666666666,
              "#ed7953"
             ],
             [
              0.7777777777777778,
              "#fb9f3a"
             ],
             [
              0.8888888888888888,
              "#fdca26"
             ],
             [
              1,
              "#f0f921"
             ]
            ],
            "type": "contour"
           }
          ],
          "contourcarpet": [
           {
            "colorbar": {
             "outlinewidth": 0,
             "ticks": ""
            },
            "type": "contourcarpet"
           }
          ],
          "heatmap": [
           {
            "colorbar": {
             "outlinewidth": 0,
             "ticks": ""
            },
            "colorscale": [
             [
              0,
              "#0d0887"
             ],
             [
              0.1111111111111111,
              "#46039f"
             ],
             [
              0.2222222222222222,
              "#7201a8"
             ],
             [
              0.3333333333333333,
              "#9c179e"
             ],
             [
              0.4444444444444444,
              "#bd3786"
             ],
             [
              0.5555555555555556,
              "#d8576b"
             ],
             [
              0.6666666666666666,
              "#ed7953"
             ],
             [
              0.7777777777777778,
              "#fb9f3a"
             ],
             [
              0.8888888888888888,
              "#fdca26"
             ],
             [
              1,
              "#f0f921"
             ]
            ],
            "type": "heatmap"
           }
          ],
          "heatmapgl": [
           {
            "colorbar": {
             "outlinewidth": 0,
             "ticks": ""
            },
            "colorscale": [
             [
              0,
              "#0d0887"
             ],
             [
              0.1111111111111111,
              "#46039f"
             ],
             [
              0.2222222222222222,
              "#7201a8"
             ],
             [
              0.3333333333333333,
              "#9c179e"
             ],
             [
              0.4444444444444444,
              "#bd3786"
             ],
             [
              0.5555555555555556,
              "#d8576b"
             ],
             [
              0.6666666666666666,
              "#ed7953"
             ],
             [
              0.7777777777777778,
              "#fb9f3a"
             ],
             [
              0.8888888888888888,
              "#fdca26"
             ],
             [
              1,
              "#f0f921"
             ]
            ],
            "type": "heatmapgl"
           }
          ],
          "histogram": [
           {
            "marker": {
             "pattern": {
              "fillmode": "overlay",
              "size": 10,
              "solidity": 0.2
             }
            },
            "type": "histogram"
           }
          ],
          "histogram2d": [
           {
            "colorbar": {
             "outlinewidth": 0,
             "ticks": ""
            },
            "colorscale": [
             [
              0,
              "#0d0887"
             ],
             [
              0.1111111111111111,
              "#46039f"
             ],
             [
              0.2222222222222222,
              "#7201a8"
             ],
             [
              0.3333333333333333,
              "#9c179e"
             ],
             [
              0.4444444444444444,
              "#bd3786"
             ],
             [
              0.5555555555555556,
              "#d8576b"
             ],
             [
              0.6666666666666666,
              "#ed7953"
             ],
             [
              0.7777777777777778,
              "#fb9f3a"
             ],
             [
              0.8888888888888888,
              "#fdca26"
             ],
             [
              1,
              "#f0f921"
             ]
            ],
            "type": "histogram2d"
           }
          ],
          "histogram2dcontour": [
           {
            "colorbar": {
             "outlinewidth": 0,
             "ticks": ""
            },
            "colorscale": [
             [
              0,
              "#0d0887"
             ],
             [
              0.1111111111111111,
              "#46039f"
             ],
             [
              0.2222222222222222,
              "#7201a8"
             ],
             [
              0.3333333333333333,
              "#9c179e"
             ],
             [
              0.4444444444444444,
              "#bd3786"
             ],
             [
              0.5555555555555556,
              "#d8576b"
             ],
             [
              0.6666666666666666,
              "#ed7953"
             ],
             [
              0.7777777777777778,
              "#fb9f3a"
             ],
             [
              0.8888888888888888,
              "#fdca26"
             ],
             [
              1,
              "#f0f921"
             ]
            ],
            "type": "histogram2dcontour"
           }
          ],
          "mesh3d": [
           {
            "colorbar": {
             "outlinewidth": 0,
             "ticks": ""
            },
            "type": "mesh3d"
           }
          ],
          "parcoords": [
           {
            "line": {
             "colorbar": {
              "outlinewidth": 0,
              "ticks": ""
             }
            },
            "type": "parcoords"
           }
          ],
          "pie": [
           {
            "automargin": true,
            "type": "pie"
           }
          ],
          "scatter": [
           {
            "fillpattern": {
             "fillmode": "overlay",
             "size": 10,
             "solidity": 0.2
            },
            "type": "scatter"
           }
          ],
          "scatter3d": [
           {
            "line": {
             "colorbar": {
              "outlinewidth": 0,
              "ticks": ""
             }
            },
            "marker": {
             "colorbar": {
              "outlinewidth": 0,
              "ticks": ""
             }
            },
            "type": "scatter3d"
           }
          ],
          "scattercarpet": [
           {
            "marker": {
             "colorbar": {
              "outlinewidth": 0,
              "ticks": ""
             }
            },
            "type": "scattercarpet"
           }
          ],
          "scattergeo": [
           {
            "marker": {
             "colorbar": {
              "outlinewidth": 0,
              "ticks": ""
             }
            },
            "type": "scattergeo"
           }
          ],
          "scattergl": [
           {
            "marker": {
             "colorbar": {
              "outlinewidth": 0,
              "ticks": ""
             }
            },
            "type": "scattergl"
           }
          ],
          "scattermapbox": [
           {
            "marker": {
             "colorbar": {
              "outlinewidth": 0,
              "ticks": ""
             }
            },
            "type": "scattermapbox"
           }
          ],
          "scatterpolar": [
           {
            "marker": {
             "colorbar": {
              "outlinewidth": 0,
              "ticks": ""
             }
            },
            "type": "scatterpolar"
           }
          ],
          "scatterpolargl": [
           {
            "marker": {
             "colorbar": {
              "outlinewidth": 0,
              "ticks": ""
             }
            },
            "type": "scatterpolargl"
           }
          ],
          "scatterternary": [
           {
            "marker": {
             "colorbar": {
              "outlinewidth": 0,
              "ticks": ""
             }
            },
            "type": "scatterternary"
           }
          ],
          "surface": [
           {
            "colorbar": {
             "outlinewidth": 0,
             "ticks": ""
            },
            "colorscale": [
             [
              0,
              "#0d0887"
             ],
             [
              0.1111111111111111,
              "#46039f"
             ],
             [
              0.2222222222222222,
              "#7201a8"
             ],
             [
              0.3333333333333333,
              "#9c179e"
             ],
             [
              0.4444444444444444,
              "#bd3786"
             ],
             [
              0.5555555555555556,
              "#d8576b"
             ],
             [
              0.6666666666666666,
              "#ed7953"
             ],
             [
              0.7777777777777778,
              "#fb9f3a"
             ],
             [
              0.8888888888888888,
              "#fdca26"
             ],
             [
              1,
              "#f0f921"
             ]
            ],
            "type": "surface"
           }
          ],
          "table": [
           {
            "cells": {
             "fill": {
              "color": "#EBF0F8"
             },
             "line": {
              "color": "white"
             }
            },
            "header": {
             "fill": {
              "color": "#C8D4E3"
             },
             "line": {
              "color": "white"
             }
            },
            "type": "table"
           }
          ]
         },
         "layout": {
          "annotationdefaults": {
           "arrowcolor": "#2a3f5f",
           "arrowhead": 0,
           "arrowwidth": 1
          },
          "autotypenumbers": "strict",
          "coloraxis": {
           "colorbar": {
            "outlinewidth": 0,
            "ticks": ""
           }
          },
          "colorscale": {
           "diverging": [
            [
             0,
             "#8e0152"
            ],
            [
             0.1,
             "#c51b7d"
            ],
            [
             0.2,
             "#de77ae"
            ],
            [
             0.3,
             "#f1b6da"
            ],
            [
             0.4,
             "#fde0ef"
            ],
            [
             0.5,
             "#f7f7f7"
            ],
            [
             0.6,
             "#e6f5d0"
            ],
            [
             0.7,
             "#b8e186"
            ],
            [
             0.8,
             "#7fbc41"
            ],
            [
             0.9,
             "#4d9221"
            ],
            [
             1,
             "#276419"
            ]
           ],
           "sequential": [
            [
             0,
             "#0d0887"
            ],
            [
             0.1111111111111111,
             "#46039f"
            ],
            [
             0.2222222222222222,
             "#7201a8"
            ],
            [
             0.3333333333333333,
             "#9c179e"
            ],
            [
             0.4444444444444444,
             "#bd3786"
            ],
            [
             0.5555555555555556,
             "#d8576b"
            ],
            [
             0.6666666666666666,
             "#ed7953"
            ],
            [
             0.7777777777777778,
             "#fb9f3a"
            ],
            [
             0.8888888888888888,
             "#fdca26"
            ],
            [
             1,
             "#f0f921"
            ]
           ],
           "sequentialminus": [
            [
             0,
             "#0d0887"
            ],
            [
             0.1111111111111111,
             "#46039f"
            ],
            [
             0.2222222222222222,
             "#7201a8"
            ],
            [
             0.3333333333333333,
             "#9c179e"
            ],
            [
             0.4444444444444444,
             "#bd3786"
            ],
            [
             0.5555555555555556,
             "#d8576b"
            ],
            [
             0.6666666666666666,
             "#ed7953"
            ],
            [
             0.7777777777777778,
             "#fb9f3a"
            ],
            [
             0.8888888888888888,
             "#fdca26"
            ],
            [
             1,
             "#f0f921"
            ]
           ]
          },
          "colorway": [
           "#636efa",
           "#EF553B",
           "#00cc96",
           "#ab63fa",
           "#FFA15A",
           "#19d3f3",
           "#FF6692",
           "#B6E880",
           "#FF97FF",
           "#FECB52"
          ],
          "font": {
           "color": "#2a3f5f"
          },
          "geo": {
           "bgcolor": "white",
           "lakecolor": "white",
           "landcolor": "#E5ECF6",
           "showlakes": true,
           "showland": true,
           "subunitcolor": "white"
          },
          "hoverlabel": {
           "align": "left"
          },
          "hovermode": "closest",
          "mapbox": {
           "style": "light"
          },
          "paper_bgcolor": "white",
          "plot_bgcolor": "#E5ECF6",
          "polar": {
           "angularaxis": {
            "gridcolor": "white",
            "linecolor": "white",
            "ticks": ""
           },
           "bgcolor": "#E5ECF6",
           "radialaxis": {
            "gridcolor": "white",
            "linecolor": "white",
            "ticks": ""
           }
          },
          "scene": {
           "xaxis": {
            "backgroundcolor": "#E5ECF6",
            "gridcolor": "white",
            "gridwidth": 2,
            "linecolor": "white",
            "showbackground": true,
            "ticks": "",
            "zerolinecolor": "white"
           },
           "yaxis": {
            "backgroundcolor": "#E5ECF6",
            "gridcolor": "white",
            "gridwidth": 2,
            "linecolor": "white",
            "showbackground": true,
            "ticks": "",
            "zerolinecolor": "white"
           },
           "zaxis": {
            "backgroundcolor": "#E5ECF6",
            "gridcolor": "white",
            "gridwidth": 2,
            "linecolor": "white",
            "showbackground": true,
            "ticks": "",
            "zerolinecolor": "white"
           }
          },
          "shapedefaults": {
           "line": {
            "color": "#2a3f5f"
           }
          },
          "ternary": {
           "aaxis": {
            "gridcolor": "white",
            "linecolor": "white",
            "ticks": ""
           },
           "baxis": {
            "gridcolor": "white",
            "linecolor": "white",
            "ticks": ""
           },
           "bgcolor": "#E5ECF6",
           "caxis": {
            "gridcolor": "white",
            "linecolor": "white",
            "ticks": ""
           }
          },
          "title": {
           "x": 0.05
          },
          "xaxis": {
           "automargin": true,
           "gridcolor": "white",
           "linecolor": "white",
           "ticks": "",
           "title": {
            "standoff": 15
           },
           "zerolinecolor": "white",
           "zerolinewidth": 2
          },
          "yaxis": {
           "automargin": true,
           "gridcolor": "white",
           "linecolor": "white",
           "ticks": "",
           "title": {
            "standoff": 15
           },
           "zerolinecolor": "white",
           "zerolinewidth": 2
          }
         }
        },
        "xaxis": {
         "anchor": "y",
         "autorange": true,
         "domain": [
          0,
          1
         ],
         "range": [
          -3,
          3
         ],
         "title": {
          "text": "x"
         },
         "type": "linear"
        },
        "yaxis": {
         "anchor": "x",
         "autorange": true,
         "domain": [
          0,
          1
         ],
         "range": [
          -0.05419267789015592,
          1.0297304851443794
         ],
         "title": {
          "text": "y"
         },
         "type": "linear"
        }
       }
      },
      "image/png": "[encoded data removed]",
      "text/html": [
       "<div>                            <div id=\"6609605b-f1b6-4833-ab4d-ce1e2318d156\" class=\"plotly-graph-div\" style=\"height:525px; width:100%;\"></div>            <script type=\"text/javascript\">                require([\"plotly\"], function(Plotly) {                    window.PLOTLYENV=window.PLOTLYENV || {};                                    if (document.getElementById(\"6609605b-f1b6-4833-ab4d-ce1e2318d156\")) {                    Plotly.newPlot(                        \"6609605b-f1b6-4833-ab4d-ce1e2318d156\",                        [{\"hovertemplate\":\"mu=-2<br>sigma=1<br>x=%{x}<br>y=%{y}<extra></extra>\",\"legendgroup\":\"-2, 1\",\"line\":{\"color\":\"#636efa\",\"dash\":\"solid\"},\"marker\":{\"symbol\":\"circle\"},\"mode\":\"lines\",\"name\":\"-2, 1\",\"orientation\":\"v\",\"showlegend\":true,\"x\":[-3.0,-2.3333333333333335,0.33333333333333304,1.666666666666666,3.0],\"xaxis\":\"x\",\"y\":[0.5601247513498804,0.8927762361396243,0.06064176346985677,0.001120381658626057,3.480261570835291e-06],\"yaxis\":\"y\",\"type\":\"scatter\"},{\"hovertemplate\":\"mu=-2<br>sigma=2<br>x=%{x}<br>y=%{y}<extra></extra>\",\"legendgroup\":\"-2, 2\",\"line\":{\"color\":\"#636efa\",\"dash\":\"dot\"},\"marker\":{\"symbol\":\"circle\"},\"mode\":\"lines\",\"name\":\"-2, 2\",\"orientation\":\"v\",\"showlegend\":true,\"x\":[-1.6666666666666667],\"xaxis\":\"x\",\"y\":[0.9209188061610015],\"yaxis\":\"y\",\"type\":\"scatter\"},{\"hovertemplate\":\"mu=-2<br>sigma=3<br>x=%{x}<br>y=%{y}<extra></extra>\",\"legendgroup\":\"-2, 3\",\"line\":{\"color\":\"#636efa\",\"dash\":\"dash\"},\"marker\":{\"symbol\":\"circle\"},\"mode\":\"lines\",\"name\":\"-2, 3\",\"orientation\":\"v\",\"showlegend\":true,\"x\":[-1.0,-0.3333333333333335,1.0,2.333333333333333],\"xaxis\":\"x\",\"y\":[0.9379477624146506,0.8190863983171154,0.5639010197455205,0.3409971336281181],\"yaxis\":\"y\",\"type\":\"scatter\"},{\"hovertemplate\":\"mu=-1<br>sigma=1<br>x=%{x}<br>y=%{y}<extra></extra>\",\"legendgroup\":\"-1, 1\",\"line\":{\"color\":\"#EF553B\",\"dash\":\"solid\"},\"marker\":{\"symbol\":\"circle\"},\"mode\":\"lines\",\"name\":\"-1, 1\",\"orientation\":\"v\",\"showlegend\":true,\"x\":[-0.3333333333333335,1.666666666666666],\"xaxis\":\"x\",\"y\":[0.7866606235064374,0.02817789988298872],\"yaxis\":\"y\",\"type\":\"scatter\"},{\"hovertemplate\":\"mu=-1<br>sigma=2<br>x=%{x}<br>y=%{y}<extra></extra>\",\"legendgroup\":\"-1, 2\",\"line\":{\"color\":\"#EF553B\",\"dash\":\"dot\"},\"marker\":{\"symbol\":\"circle\"},\"mode\":\"lines\",\"name\":\"-1, 2\",\"orientation\":\"v\",\"showlegend\":true,\"x\":[-2.3333333333333335,-1.6666666666666667,0.33333333333333304,3.0],\"xaxis\":\"x\",\"y\":[0.7308428794047465,0.893362783972529,0.7509203523112622,0.12493393702522995],\"yaxis\":\"y\",\"type\":\"scatter\"},{\"hovertemplate\":\"mu=-1<br>sigma=3<br>x=%{x}<br>y=%{y}<extra></extra>\",\"legendgroup\":\"-1, 3\",\"line\":{\"color\":\"#EF553B\",\"dash\":\"dash\"},\"marker\":{\"symbol\":\"circle\"},\"mode\":\"lines\",\"name\":\"-1, 3\",\"orientation\":\"v\",\"showlegend\":true,\"x\":[-3.0,-1.0,1.0,2.333333333333333],\"xaxis\":\"x\",\"y\":[0.7220852347243677,0.9755343269926525,0.7663020258315317,0.4929164649853518],\"yaxis\":\"y\",\"type\":\"scatter\"},{\"hovertemplate\":\"mu=0<br>sigma=1<br>x=%{x}<br>y=%{y}<extra></extra>\",\"legendgroup\":\"0, 1\",\"line\":{\"color\":\"#00cc96\",\"dash\":\"solid\"},\"marker\":{\"symbol\":\"circle\"},\"mode\":\"lines\",\"name\":\"0, 1\",\"orientation\":\"v\",\"showlegend\":true,\"x\":[1.666666666666666,3.0],\"xaxis\":\"x\",\"y\":[0.24810259204982288,0.010364763429160234],\"yaxis\":\"y\",\"type\":\"scatter\"},{\"hovertemplate\":\"mu=0<br>sigma=2<br>x=%{x}<br>y=%{y}<extra></extra>\",\"legendgroup\":\"0, 2\",\"line\":{\"color\":\"#00cc96\",\"dash\":\"dot\"},\"marker\":{\"symbol\":\"circle\"},\"mode\":\"lines\",\"name\":\"0, 2\",\"orientation\":\"v\",\"showlegend\":true,\"x\":[-1.6666666666666667,-1.0,0.33333333333333304,1.0,2.333333333333333],\"xaxis\":\"x\",\"y\":[0.6407387538536603,0.876691108806051,0.9496171822749984,0.7971018990837689,0.47019979563290176],\"yaxis\":\"y\",\"type\":\"scatter\"},{\"hovertemplate\":\"mu=0<br>sigma=3<br>x=%{x}<br>y=%{y}<extra></extra>\",\"legendgroup\":\"0, 3\",\"line\":{\"color\":\"#00cc96\",\"dash\":\"dash\"},\"marker\":{\"symbol\":\"circle\"},\"mode\":\"lines\",\"name\":\"0, 3\",\"orientation\":\"v\",\"showlegend\":true,\"x\":[-3.0,-2.3333333333333335,-0.3333333333333335],\"xaxis\":\"x\",\"y\":[0.59936650134328,0.7248940324635261,0.9247662240292163],\"yaxis\":\"y\",\"type\":\"scatter\"},{\"hovertemplate\":\"mu=1<br>sigma=1<br>x=%{x}<br>y=%{y}<extra></extra>\",\"legendgroup\":\"1, 1\",\"line\":{\"color\":\"#ab63fa\",\"dash\":\"solid\"},\"marker\":{\"symbol\":\"circle\"},\"mode\":\"lines\",\"name\":\"1, 1\",\"orientation\":\"v\",\"showlegend\":true,\"x\":[-2.3333333333333335,-1.0,1.666666666666666,3.0],\"xaxis\":\"x\",\"y\":[0.003756397108192632,0.12241162690882547,0.7705884016170799,0.12721951885846455],\"yaxis\":\"y\",\"type\":\"scatter\"},{\"hovertemplate\":\"mu=1<br>sigma=2<br>x=%{x}<br>y=%{y}<extra></extra>\",\"legendgroup\":\"1, 2\",\"line\":{\"color\":\"#ab63fa\",\"dash\":\"dot\"},\"marker\":{\"symbol\":\"circle\"},\"mode\":\"lines\",\"name\":\"1, 2\",\"orientation\":\"v\",\"showlegend\":true,\"x\":[-1.6666666666666667,-0.3333333333333335,0.33333333333333304,2.333333333333333],\"xaxis\":\"x\",\"y\":[0.4076670857507933,0.7292116745063867,0.8745154175234552,0.7426306494296258],\"yaxis\":\"y\",\"type\":\"scatter\"},{\"hovertemplate\":\"mu=1<br>sigma=3<br>x=%{x}<br>y=%{y}<extra></extra>\",\"legendgroup\":\"1, 3\",\"line\":{\"color\":\"#ab63fa\",\"dash\":\"dash\"},\"marker\":{\"symbol\":\"circle\"},\"mode\":\"lines\",\"name\":\"1, 3\",\"orientation\":\"v\",\"showlegend\":true,\"x\":[-3.0,1.0],\"xaxis\":\"x\",\"y\":[0.3885195030073219,0.9658254666791477],\"yaxis\":\"y\",\"type\":\"scatter\"},{\"hovertemplate\":\"mu=2<br>sigma=1<br>x=%{x}<br>y=%{y}<extra></extra>\",\"legendgroup\":\"2, 1\",\"line\":{\"color\":\"#FFA15A\",\"dash\":\"solid\"},\"marker\":{\"symbol\":\"circle\"},\"mode\":\"lines\",\"name\":\"2, 1\",\"orientation\":\"v\",\"showlegend\":true,\"x\":[-2.3333333333333335],\"xaxis\":\"x\",\"y\":[8.12642482684033e-05],\"yaxis\":\"y\",\"type\":\"scatter\"},{\"hovertemplate\":\"mu=2<br>sigma=2<br>x=%{x}<br>y=%{y}<extra></extra>\",\"legendgroup\":\"2, 2\",\"line\":{\"color\":\"#FFA15A\",\"dash\":\"dot\"},\"marker\":{\"symbol\":\"circle\"},\"mode\":\"lines\",\"name\":\"2, 2\",\"orientation\":\"v\",\"showlegend\":true,\"x\":[-0.3333333333333335,0.33333333333333304,2.333333333333333],\"xaxis\":\"x\",\"y\":[0.47993736243040175,0.6807802433728334,0.9015356734040402],\"yaxis\":\"y\",\"type\":\"scatter\"},{\"hovertemplate\":\"mu=2<br>sigma=3<br>x=%{x}<br>y=%{y}<extra></extra>\",\"legendgroup\":\"2, 3\",\"line\":{\"color\":\"#FFA15A\",\"dash\":\"dash\"},\"marker\":{\"symbol\":\"circle\"},\"mode\":\"lines\",\"name\":\"2, 3\",\"orientation\":\"v\",\"showlegend\":true,\"x\":[-3.0,-1.6666666666666667,-1.0,1.0,1.666666666666666,3.0],\"xaxis\":\"x\",\"y\":[0.23558922324718684,0.46742816388647196,0.5601380466826922,0.9126780196131634,0.9700802468337884,0.9047787121652325],\"yaxis\":\"y\",\"type\":\"scatter\"}],                        {\"template\":{\"data\":{\"histogram2dcontour\":[{\"type\":\"histogram2dcontour\",\"colorbar\":{\"outlinewidth\":0,\"ticks\":\"\"},\"colorscale\":[[0.0,\"#0d0887\"],[0.1111111111111111,\"#46039f\"],[0.2222222222222222,\"#7201a8\"],[0.3333333333333333,\"#9c179e\"],[0.4444444444444444,\"#bd3786\"],[0.5555555555555556,\"#d8576b\"],[0.6666666666666666,\"#ed7953\"],[0.7777777777777778,\"#fb9f3a\"],[0.8888888888888888,\"#fdca26\"],[1.0,\"#f0f921\"]]}],\"choropleth\":[{\"type\":\"choropleth\",\"colorbar\":{\"outlinewidth\":0,\"ticks\":\"\"}}],\"histogram2d\":[{\"type\":\"histogram2d\",\"colorbar\":{\"outlinewidth\":0,\"ticks\":\"\"},\"colorscale\":[[0.0,\"#0d0887\"],[0.1111111111111111,\"#46039f\"],[0.2222222222222222,\"#7201a8\"],[0.3333333333333333,\"#9c179e\"],[0.4444444444444444,\"#bd3786\"],[0.5555555555555556,\"#d8576b\"],[0.6666666666666666,\"#ed7953\"],[0.7777777777777778,\"#fb9f3a\"],[0.8888888888888888,\"#fdca26\"],[1.0,\"#f0f921\"]]}],\"heatmap\":[{\"type\":\"heatmap\",\"colorbar\":{\"outlinewidth\":0,\"ticks\":\"\"},\"colorscale\":[[0.0,\"#0d0887\"],[0.1111111111111111,\"#46039f\"],[0.2222222222222222,\"#7201a8\"],[0.3333333333333333,\"#9c179e\"],[0.4444444444444444,\"#bd3786\"],[0.5555555555555556,\"#d8576b\"],[0.6666666666666666,\"#ed7953\"],[0.7777777777777778,\"#fb9f3a\"],[0.8888888888888888,\"#fdca26\"],[1.0,\"#f0f921\"]]}],\"heatmapgl\":[{\"type\":\"heatmapgl\",\"colorbar\":{\"outlinewidth\":0,\"ticks\":\"\"},\"colorscale\":[[0.0,\"#0d0887\"],[0.1111111111111111,\"#46039f\"],[0.2222222222222222,\"#7201a8\"],[0.3333333333333333,\"#9c179e\"],[0.4444444444444444,\"#bd3786\"],[0.5555555555555556,\"#d8576b\"],[0.6666666666666666,\"#ed7953\"],[0.7777777777777778,\"#fb9f3a\"],[0.8888888888888888,\"#fdca26\"],[1.0,\"#f0f921\"]]}],\"contourcarpet\":[{\"type\":\"contourcarpet\",\"colorbar\":{\"outlinewidth\":0,\"ticks\":\"\"}}],\"contour\":[{\"type\":\"contour\",\"colorbar\":{\"outlinewidth\":0,\"ticks\":\"\"},\"colorscale\":[[0.0,\"#0d0887\"],[0.1111111111111111,\"#46039f\"],[0.2222222222222222,\"#7201a8\"],[0.3333333333333333,\"#9c179e\"],[0.4444444444444444,\"#bd3786\"],[0.5555555555555556,\"#d8576b\"],[0.6666666666666666,\"#ed7953\"],[0.7777777777777778,\"#fb9f3a\"],[0.8888888888888888,\"#fdca26\"],[1.0,\"#f0f921\"]]}],\"surface\":[{\"type\":\"surface\",\"colorbar\":{\"outlinewidth\":0,\"ticks\":\"\"},\"colorscale\":[[0.0,\"#0d0887\"],[0.1111111111111111,\"#46039f\"],[0.2222222222222222,\"#7201a8\"],[0.3333333333333333,\"#9c179e\"],[0.4444444444444444,\"#bd3786\"],[0.5555555555555556,\"#d8576b\"],[0.6666666666666666,\"#ed7953\"],[0.7777777777777778,\"#fb9f3a\"],[0.8888888888888888,\"#fdca26\"],[1.0,\"#f0f921\"]]}],\"mesh3d\":[{\"type\":\"mesh3d\",\"colorbar\":{\"outlinewidth\":0,\"ticks\":\"\"}}],\"scatter\":[{\"fillpattern\":{\"fillmode\":\"overlay\",\"size\":10,\"solidity\":0.2},\"type\":\"scatter\"}],\"parcoords\":[{\"type\":\"parcoords\",\"line\":{\"colorbar\":{\"outlinewidth\":0,\"ticks\":\"\"}}}],\"scatterpolargl\":[{\"type\":\"scatterpolargl\",\"marker\":{\"colorbar\":{\"outlinewidth\":0,\"ticks\":\"\"}}}],\"bar\":[{\"error_x\":{\"color\":\"#2a3f5f\"},\"error_y\":{\"color\":\"#2a3f5f\"},\"marker\":{\"line\":{\"color\":\"#E5ECF6\",\"width\":0.5},\"pattern\":{\"fillmode\":\"overlay\",\"size\":10,\"solidity\":0.2}},\"type\":\"bar\"}],\"scattergeo\":[{\"type\":\"scattergeo\",\"marker\":{\"colorbar\":{\"outlinewidth\":0,\"ticks\":\"\"}}}],\"scatterpolar\":[{\"type\":\"scatterpolar\",\"marker\":{\"colorbar\":{\"outlinewidth\":0,\"ticks\":\"\"}}}],\"histogram\":[{\"marker\":{\"pattern\":{\"fillmode\":\"overlay\",\"size\":10,\"solidity\":0.2}},\"type\":\"histogram\"}],\"scattergl\":[{\"type\":\"scattergl\",\"marker\":{\"colorbar\":{\"outlinewidth\":0,\"ticks\":\"\"}}}],\"scatter3d\":[{\"type\":\"scatter3d\",\"line\":{\"colorbar\":{\"outlinewidth\":0,\"ticks\":\"\"}},\"marker\":{\"colorbar\":{\"outlinewidth\":0,\"ticks\":\"\"}}}],\"scattermapbox\":[{\"type\":\"scattermapbox\",\"marker\":{\"colorbar\":{\"outlinewidth\":0,\"ticks\":\"\"}}}],\"scatterternary\":[{\"type\":\"scatterternary\",\"marker\":{\"colorbar\":{\"outlinewidth\":0,\"ticks\":\"\"}}}],\"scattercarpet\":[{\"type\":\"scattercarpet\",\"marker\":{\"colorbar\":{\"outlinewidth\":0,\"ticks\":\"\"}}}],\"carpet\":[{\"aaxis\":{\"endlinecolor\":\"#2a3f5f\",\"gridcolor\":\"white\",\"linecolor\":\"white\",\"minorgridcolor\":\"white\",\"startlinecolor\":\"#2a3f5f\"},\"baxis\":{\"endlinecolor\":\"#2a3f5f\",\"gridcolor\":\"white\",\"linecolor\":\"white\",\"minorgridcolor\":\"white\",\"startlinecolor\":\"#2a3f5f\"},\"type\":\"carpet\"}],\"table\":[{\"cells\":{\"fill\":{\"color\":\"#EBF0F8\"},\"line\":{\"color\":\"white\"}},\"header\":{\"fill\":{\"color\":\"#C8D4E3\"},\"line\":{\"color\":\"white\"}},\"type\":\"table\"}],\"barpolar\":[{\"marker\":{\"line\":{\"color\":\"#E5ECF6\",\"width\":0.5},\"pattern\":{\"fillmode\":\"overlay\",\"size\":10,\"solidity\":0.2}},\"type\":\"barpolar\"}],\"pie\":[{\"automargin\":true,\"type\":\"pie\"}]},\"layout\":{\"autotypenumbers\":\"strict\",\"colorway\":[\"#636efa\",\"#EF553B\",\"#00cc96\",\"#ab63fa\",\"#FFA15A\",\"#19d3f3\",\"#FF6692\",\"#B6E880\",\"#FF97FF\",\"#FECB52\"],\"font\":{\"color\":\"#2a3f5f\"},\"hovermode\":\"closest\",\"hoverlabel\":{\"align\":\"left\"},\"paper_bgcolor\":\"white\",\"plot_bgcolor\":\"#E5ECF6\",\"polar\":{\"bgcolor\":\"#E5ECF6\",\"angularaxis\":{\"gridcolor\":\"white\",\"linecolor\":\"white\",\"ticks\":\"\"},\"radialaxis\":{\"gridcolor\":\"white\",\"linecolor\":\"white\",\"ticks\":\"\"}},\"ternary\":{\"bgcolor\":\"#E5ECF6\",\"aaxis\":{\"gridcolor\":\"white\",\"linecolor\":\"white\",\"ticks\":\"\"},\"baxis\":{\"gridcolor\":\"white\",\"linecolor\":\"white\",\"ticks\":\"\"},\"caxis\":{\"gridcolor\":\"white\",\"linecolor\":\"white\",\"ticks\":\"\"}},\"coloraxis\":{\"colorbar\":{\"outlinewidth\":0,\"ticks\":\"\"}},\"colorscale\":{\"sequential\":[[0.0,\"#0d0887\"],[0.1111111111111111,\"#46039f\"],[0.2222222222222222,\"#7201a8\"],[0.3333333333333333,\"#9c179e\"],[0.4444444444444444,\"#bd3786\"],[0.5555555555555556,\"#d8576b\"],[0.6666666666666666,\"#ed7953\"],[0.7777777777777778,\"#fb9f3a\"],[0.8888888888888888,\"#fdca26\"],[1.0,\"#f0f921\"]],\"sequentialminus\":[[0.0,\"#0d0887\"],[0.1111111111111111,\"#46039f\"],[0.2222222222222222,\"#7201a8\"],[0.3333333333333333,\"#9c179e\"],[0.4444444444444444,\"#bd3786\"],[0.5555555555555556,\"#d8576b\"],[0.6666666666666666,\"#ed7953\"],[0.7777777777777778,\"#fb9f3a\"],[0.8888888888888888,\"#fdca26\"],[1.0,\"#f0f921\"]],\"diverging\":[[0,\"#8e0152\"],[0.1,\"#c51b7d\"],[0.2,\"#de77ae\"],[0.3,\"#f1b6da\"],[0.4,\"#fde0ef\"],[0.5,\"#f7f7f7\"],[0.6,\"#e6f5d0\"],[0.7,\"#b8e186\"],[0.8,\"#7fbc41\"],[0.9,\"#4d9221\"],[1,\"#276419\"]]},\"xaxis\":{\"gridcolor\":\"white\",\"linecolor\":\"white\",\"ticks\":\"\",\"title\":{\"standoff\":15},\"zerolinecolor\":\"white\",\"automargin\":true,\"zerolinewidth\":2},\"yaxis\":{\"gridcolor\":\"white\",\"linecolor\":\"white\",\"ticks\":\"\",\"title\":{\"standoff\":15},\"zerolinecolor\":\"white\",\"automargin\":true,\"zerolinewidth\":2},\"scene\":{\"xaxis\":{\"backgroundcolor\":\"#E5ECF6\",\"gridcolor\":\"white\",\"linecolor\":\"white\",\"showbackground\":true,\"ticks\":\"\",\"zerolinecolor\":\"white\",\"gridwidth\":2},\"yaxis\":{\"backgroundcolor\":\"#E5ECF6\",\"gridcolor\":\"white\",\"linecolor\":\"white\",\"showbackground\":true,\"ticks\":\"\",\"zerolinecolor\":\"white\",\"gridwidth\":2},\"zaxis\":{\"backgroundcolor\":\"#E5ECF6\",\"gridcolor\":\"white\",\"linecolor\":\"white\",\"showbackground\":true,\"ticks\":\"\",\"zerolinecolor\":\"white\",\"gridwidth\":2}},\"shapedefaults\":{\"line\":{\"color\":\"#2a3f5f\"}},\"annotationdefaults\":{\"arrowcolor\":\"#2a3f5f\",\"arrowhead\":0,\"arrowwidth\":1},\"geo\":{\"bgcolor\":\"white\",\"landcolor\":\"#E5ECF6\",\"subunitcolor\":\"white\",\"showland\":true,\"showlakes\":true,\"lakecolor\":\"white\"},\"title\":{\"x\":0.05},\"mapbox\":{\"style\":\"light\"}}},\"xaxis\":{\"anchor\":\"y\",\"domain\":[0.0,1.0],\"title\":{\"text\":\"x\"}},\"yaxis\":{\"anchor\":\"x\",\"domain\":[0.0,1.0],\"title\":{\"text\":\"y\"}},\"legend\":{\"title\":{\"text\":\"mu, sigma\"},\"tracegroupgap\":0},\"margin\":{\"t\":60}},                        {\"responsive\": true}                    ).then(function(){\n",
       "                            \n",
       "var gd = document.getElementById('6609605b-f1b6-4833-ab4d-ce1e2318d156');\n",
       "var x = new MutationObserver(function (mutations, observer) {{\n",
       "        var display = window.getComputedStyle(gd).display;\n",
       "        if (!display || display === 'none') {{\n",
       "            console.log([gd, 'removed!']);\n",
       "            Plotly.purge(gd);\n",
       "            observer.disconnect();\n",
       "        }}\n",
       "}});\n",
       "\n",
       "// Listen for the removal of the full notebook cells\n",
       "var notebookContainer = gd.closest('#notebook-container');\n",
       "if (notebookContainer) {{\n",
       "    x.observe(notebookContainer, {childList: true});\n",
       "}}\n",
       "\n",
       "// Listen for the clearing of the current output cell\n",
       "var outputEl = gd.closest('.output');\n",
       "if (outputEl) {{\n",
       "    x.observe(outputEl, {childList: true});\n",
       "}}\n",
       "\n",
       "                        })                };                });            </script>        </div>"
      ]
     },
     "metadata": {},
     "output_type": "display_data"
    }
   ],
   "source": [
    "px.line(dataset, 'x', 'y', color='mu', line_dash='sigma')"
   ]
  },
  {
   "cell_type": "code",
   "execution_count": 93,
   "id": "3f871611-d687-47ea-ba42-f35e192ce99d",
   "metadata": {
    "tags": []
   },
   "outputs": [],
   "source": [
    "model = PySRRegressor(\n",
    "    niterations=1000,  # < Increase me for better results\n",
    "    binary_operators=[\"+\", \"*\", \"/\"],\n",
    "    unary_operators=[\n",
    "        \"exp\",\n",
    "        \"square(x)=x^2\"\n",
    "        # ^ Custom operator (julia syntax)\n",
    "    ],\n",
    "    extra_sympy_mappings={\"square\": lambda x: x**2},\n",
    "    # ^ Define operator for SymPy as well\n",
    "    loss=\"loss(prediction, target) = (prediction - target)^2\",\n",
    "    # ^ Custom loss function (julia syntax)\n",
    ")"
   ]
  },
  {
   "cell_type": "code",
   "execution_count": 94,
   "id": "ea392e5d-8480-47d9-9385-fde6ff6cfa5c",
   "metadata": {
    "tags": []
   },
   "outputs": [
    {
     "name": "stderr",
     "output_type": "stream",
     "text": [
      "/home/laurent/miniconda3/envs/pysr_env/lib/python3.11/site-packages/pysr/sr.py:1346: UserWarning:\n",
      "\n",
      "Note: it looks like you are running in Jupyter. The progress bar will be turned off.\n",
      "\n"
     ]
    },
    {
     "name": "stdout",
     "output_type": "stream",
     "text": [
      "Started!\n",
      "\n",
      "Expressions evaluated per second: 3.620e+05\n",
      "Head worker occupation: 8.4%\n",
      "Progress: 768 / 15000 total iterations (5.120%)\n",
      "====================================================================================================\n",
      "Hall of Fame:\n",
      "---------------------------------------------------------------------------------------------------\n",
      "Complexity  Loss       Score     Equation\n",
      "1           1.055e-01  1.594e+01  y = 0.57708\n",
      "3           7.979e-02  1.399e-01  y = (0.26629 * x₂)\n",
      "4           7.259e-02  9.453e-02  y = exp(-1.0303 / x₂)\n",
      "5           6.882e-02  5.340e-02  y = ((-0.70127 / x₂) + 0.98153)\n",
      "6           6.706e-02  2.583e-02  y = ((-0.52406 / square(x₂)) + 0.79054)\n",
      "7           6.612e-02  1.420e-02  y = ((-0.44406 / square(square(x₂))) + 0.71309)\n",
      "8           6.594e-02  2.675e-03  y = ((-0.44406 / square(square(square(x₂)))) + 0.70208)\n",
      "9           4.597e-02  3.608e-01  y = exp(-2.1593 / exp((x₀ * x₁) + x₂))\n",
      "10          4.438e-02  3.510e-02  y = exp((-0.93292 / square(x₂)) / exp(x₀ * x₁))\n",
      "11          2.995e-02  3.933e-01  y = exp((-0.93292 / x₂) / exp((x₀ * 0.28192) * x₁))\n",
      "12          2.690e-02  1.074e-01  y = exp((-1.4798 / square(x₂)) / exp((x₀ / 2.3062) * x₁))\n",
      "14          2.466e-02  4.352e-02  y = (exp((-1.4798 / square(x₂)) / exp((0.44143 * x₀) * x₁)) * ...\n",
      "                                  x₃)\n",
      "15          1.384e-02  5.779e-01  y = exp(-2.1593 / exp(((x₀ / x₂) * ((-0.4031 * x₀) + x₁)) + x₂...\n",
      "                                  ))\n",
      "17          1.096e-02  1.166e-01  y = exp(-2.1593 / ((exp((x₀ * ((-0.46998 * x₀) + x₁)) + x₂) + ...\n",
      "                                  x₂) + -0.49968))\n",
      "19          1.048e-02  2.229e-02  y = exp(-2.1593 / ((exp((x₀ * ((-0.46998 * x₀) + (x₁ * x₃))) +...\n",
      "                                   x₂) + x₂) + -0.49968))\n",
      "20          1.032e-02  1.587e-02  y = exp(-2.1593 / ((exp((x₀ * ((-0.46998 * x₀) + (x₁ * square(...\n",
      "                                  x₃)))) + x₂) + x₂) + -0.49968))\n",
      "---------------------------------------------------------------------------------------------------\n",
      "====================================================================================================\n",
      "Press 'q' and then <enter> to stop execution early.\n",
      "\n",
      "Expressions evaluated per second: 3.560e+05\n",
      "Head worker occupation: 8.7%\n",
      "Progress: 1543 / 15000 total iterations (10.287%)\n",
      "====================================================================================================\n",
      "Hall of Fame:\n",
      "---------------------------------------------------------------------------------------------------\n",
      "Complexity  Loss       Score     Equation\n",
      "1           1.055e-01  1.594e+01  y = 0.57708\n",
      "2           1.055e-01  0.000e+00  y = exp(-0.5496)\n",
      "3           7.979e-02  2.797e-01  y = (0.26629 * x₂)\n",
      "4           7.259e-02  9.453e-02  y = exp(-1.0303 / x₂)\n",
      "5           6.882e-02  5.340e-02  y = ((-0.70127 / x₂) + 0.98153)\n",
      "6           6.706e-02  2.583e-02  y = ((-0.52406 / square(x₂)) + 0.79054)\n",
      "7           6.608e-02  1.478e-02  y = ((-0.45842 / square(square(x₂))) + 0.71738)\n",
      "8           6.594e-02  2.089e-03  y = ((-0.44406 / square(square(square(x₂)))) + 0.70208)\n",
      "9           4.597e-02  3.608e-01  y = exp(-2.1593 / exp((x₀ * x₁) + x₂))\n",
      "10          4.120e-02  1.095e-01  y = exp(-1.9163 / (x₂ + square(exp(x₁ / x₀))))\n",
      "11          2.812e-02  3.819e-01  y = exp(-3.2412 / exp(((x₀ * x₁) * 0.42405) + x₂))\n",
      "12          2.687e-02  4.550e-02  y = exp((-1.4798 / square(x₂)) / exp((x₀ / 2.3837) * x₁))\n",
      "13          2.625e-02  2.357e-02  y = (exp(-3.2412 / exp(((x₀ * x₁) * 0.42405) + x₂)) * x₃)\n",
      "14          2.463e-02  6.361e-02  y = (exp((-1.4798 / square(x₂)) / exp((x₀ / 2.3837) * x₁)) * x...\n",
      "                                  ₃)\n",
      "15          1.373e-02  5.841e-01  y = exp(-2.1593 / exp(((x₀ * ((-0.4542 * x₀) + x₁)) / x₂) + x₂...\n",
      "                                  ))\n",
      "16          1.320e-02  3.982e-02  y = square(exp(-1.4059 / (exp((x₀ * ((-0.43983 * x₀) + x₁)) + ...\n",
      "                                  x₂) + x₂)))\n",
      "17          1.095e-02  1.869e-01  y = exp(-2.1593 / (exp((x₀ * ((-0.47748 * x₀) + x₁)) + x₂) + (...\n",
      "                                  x₂ + -0.51131)))\n",
      "19          1.043e-02  2.440e-02  y = exp(-2.1593 / (exp(((x₀ / 1.1648) * ((-0.47748 * x₀) + x₁)...\n",
      "                                  ) + x₂) + (x₂ + -0.51131)))\n",
      "20          1.015e-02  2.710e-02  y = (square(exp(-1.4232 / (exp((x₀ * ((-0.43983 * x₀) + x₁)) +...\n",
      "                                   (x₂ * 1.2469)) + x₂))) * x₃)\n",
      "---------------------------------------------------------------------------------------------------\n",
      "====================================================================================================\n",
      "Press 'q' and then <enter> to stop execution early.\n",
      "\n",
      "Expressions evaluated per second: 3.570e+05\n",
      "Head worker occupation: 9.4%\n",
      "Progress: 2301 / 15000 total iterations (15.340%)\n",
      "====================================================================================================\n",
      "Hall of Fame:\n",
      "---------------------------------------------------------------------------------------------------\n",
      "Complexity  Loss       Score     Equation\n",
      "1           1.055e-01  1.594e+01  y = 0.57708\n",
      "2           1.055e-01  0.000e+00  y = exp(-0.5496)\n",
      "3           7.979e-02  2.797e-01  y = (0.26629 * x₂)\n",
      "4           7.259e-02  9.453e-02  y = exp(-1.0303 / x₂)\n",
      "5           6.882e-02  5.340e-02  y = ((-0.70127 / x₂) + 0.98153)\n",
      "6           6.706e-02  2.583e-02  y = ((-0.52406 / square(x₂)) + 0.79054)\n",
      "7           6.595e-02  1.676e-02  y = ((-6.7454 / exp(exp(x₂))) + 0.70318)\n",
      "8           6.594e-02  1.167e-04  y = ((-0.44406 / square(square(square(x₂)))) + 0.70208)\n",
      "9           4.596e-02  3.609e-01  y = exp(-2.1316 / exp((x₀ * x₁) + x₂))\n",
      "10          4.120e-02  1.094e-01  y = exp(-1.9163 / (x₂ + square(exp(x₁ / x₀))))\n",
      "11          2.812e-02  3.819e-01  y = exp(-3.2412 / exp(((x₀ * x₁) * 0.42405) + x₂))\n",
      "12          2.687e-02  4.551e-02  y = exp((-1.4798 / square(x₂)) / exp((x₀ / 2.3749) * x₁))\n",
      "13          2.625e-02  2.356e-02  y = (exp(-3.2412 / exp(((x₀ * x₁) * 0.42405) + x₂)) * x₃)\n",
      "14          2.270e-02  1.451e-01  y = exp(-1.9521 / (exp(exp(x₀ * ((-0.3481 * x₀) + x₁))) * x₂))\n",
      "15          1.352e-02  5.184e-01  y = exp(-2.0714 / exp(((x₀ * ((-0.4542 * x₀) + x₁)) / x₂) + x₂...\n",
      "                                  ))\n",
      "16          1.320e-02  2.402e-02  y = square(exp(-1.4059 / (exp((x₀ * ((-0.43983 * x₀) + x₁)) + ...\n",
      "                                  x₂) + x₂)))\n",
      "17          1.069e-02  2.108e-01  y = exp(-1.9521 / ((exp((x₀ * ((-0.47748 * x₀) + x₁)) + x₂) + ...\n",
      "                                  -0.74192) + x₂))\n",
      "19          9.696e-03  4.870e-02  y = exp(-2.0892 / ((exp(((x₀ * ((-0.47748 * x₀) + x₁)) * 0.698...\n",
      "                                  91) + x₂) + x₂) + -0.97135))\n",
      "20          9.679e-03  1.734e-03  y = exp(-1.9521 / ((exp((x₀ * (((-0.47748 * x₀) + x₁) / exp(0....\n",
      "                                  31518))) + x₂) + x₂) + -0.97135))\n",
      "---------------------------------------------------------------------------------------------------\n",
      "====================================================================================================\n",
      "Press 'q' and then <enter> to stop execution early.\n",
      "\n",
      "Expressions evaluated per second: 3.520e+05\n",
      "Head worker occupation: 9.3%\n",
      "Progress: 3030 / 15000 total iterations (20.200%)\n",
      "====================================================================================================\n",
      "Hall of Fame:\n",
      "---------------------------------------------------------------------------------------------------\n",
      "Complexity  Loss       Score     Equation\n",
      "1           1.055e-01  1.594e+01  y = 0.57708\n",
      "2           1.055e-01  0.000e+00  y = exp(-0.5496)\n",
      "3           7.979e-02  2.797e-01  y = (0.26629 * x₂)\n",
      "4           7.259e-02  9.453e-02  y = exp(-1.0303 / x₂)\n",
      "5           6.882e-02  5.340e-02  y = ((-0.70127 / x₂) + 0.98153)\n",
      "6           6.706e-02  2.583e-02  y = ((-0.52406 / square(x₂)) + 0.79054)\n",
      "7           6.595e-02  1.676e-02  y = ((-6.7454 / exp(exp(x₂))) + 0.70318)\n",
      "8           6.594e-02  1.754e-04  y = ((-1.2049 / exp(square(square(x₂)))) + 0.70123)\n",
      "9           4.596e-02  3.609e-01  y = exp(-2.1316 / exp((x₀ * x₁) + x₂))\n",
      "10          4.120e-02  1.094e-01  y = exp(-1.9077 / (square(exp(x₁ / x₀)) + x₂))\n",
      "11          1.682e-03  3.199e+00  y = exp(square((x₀ + (-0.96852 * x₁)) / x₂) * -0.50369)\n",
      "12          1.143e-03  3.860e-01  y = exp((square(x₀ + (-0.96852 * x₁)) * -0.58736) / square(x₂)...\n",
      "                                  )\n",
      "13          8.239e-05  2.630e+00  y = (exp(square((x₀ + (-0.96852 * x₁)) / x₂) * -0.50369) * x₃)\n",
      "16          4.481e-05  2.030e-01  y = (exp((square((x₀ * 0.56262) + (-0.55444 * x₁)) / -0.64601)...\n",
      "                                   / square(x₂)) * x₃)\n",
      "19          1.963e-05  2.751e-01  y = (exp(((square((x₀ * 0.56262) + (-0.55444 * x₁)) / -0.64601...\n",
      "                                  ) / (x₂ * 0.98187)) / x₂) * x₃)\n",
      "20          1.724e-05  1.297e-01  y = (exp(((square((x₀ * 0.56262) + (-0.55444 * x₁)) / -0.64601...\n",
      "                                  ) / exp(-0.028495)) / (x₂ * x₂)) * x₃)\n",
      "---------------------------------------------------------------------------------------------------\n",
      "====================================================================================================\n",
      "Press 'q' and then <enter> to stop execution early.\n",
      "\n",
      "Expressions evaluated per second: 3.550e+05\n",
      "Head worker occupation: 7.9%\n",
      "Progress: 3857 / 15000 total iterations (25.713%)\n",
      "====================================================================================================\n",
      "Hall of Fame:\n",
      "---------------------------------------------------------------------------------------------------\n",
      "Complexity  Loss       Score     Equation\n",
      "1           1.055e-01  1.594e+01  y = 0.57708\n",
      "2           1.055e-01  0.000e+00  y = exp(-0.5496)\n",
      "3           7.979e-02  2.797e-01  y = (0.26629 * x₂)\n",
      "4           7.259e-02  9.453e-02  y = exp(-1.0303 / x₂)\n",
      "5           6.882e-02  5.340e-02  y = ((-0.70127 / x₂) + 0.98153)\n",
      "6           6.706e-02  2.583e-02  y = ((-0.52406 / square(x₂)) + 0.79054)\n",
      "7           6.595e-02  1.676e-02  y = ((-6.7454 / exp(exp(x₂))) + 0.70318)\n",
      "8           6.594e-02  1.754e-04  y = ((-1.2049 / exp(square(square(x₂)))) + 0.70123)\n",
      "9           3.969e-02  5.076e-01  y = (0.25266 * (x₂ + (0.25266 * (x₀ * x₁))))\n",
      "10          3.783e-02  4.806e-02  y = ((0.26629 * x₂) + ((square(0.26629) * x₀) * x₁))\n",
      "11          1.085e-03  3.551e+00  y = exp(square((x₀ + (-0.96852 * x₁)) / x₂) * -0.56979)\n",
      "12          1.083e-03  1.554e-03  y = square(exp(square((x₀ + (-0.96852 * x₁)) / x₂) * -0.28279)...\n",
      "                                  )\n",
      "13          8.239e-05  2.576e+00  y = (exp(square((x₀ + (-0.96852 * x₁)) / x₂) * -0.50369) * x₃)\n",
      "15          8.104e-05  8.265e-03  y = (exp(square((x₀ + (-0.96852 * (x₁ + -0.0033568))) / x₂) * ...\n",
      "                                  -0.50369) * x₃)\n",
      "16          4.481e-05  5.925e-01  y = (exp((square((x₀ * 0.56262) + (-0.55444 * x₁)) / -0.64601)...\n",
      "                                   / square(x₂)) * x₃)\n",
      "17          4.668e-06  2.262e+00  y = (exp((square((x₀ * 0.56262) + (-0.55907 * x₁)) / -0.63522)...\n",
      "                                   / (x₂ * x₂)) * x₃)\n",
      "20          3.300e-06  1.156e-01  y = (exp(((square((x₀ * 0.56262) + (-0.55907 * x₁)) / -0.64601...\n",
      "                                  ) * exp(0.024619)) / (x₂ * x₂)) * x₃)\n",
      "---------------------------------------------------------------------------------------------------\n",
      "====================================================================================================\n",
      "Press 'q' and then <enter> to stop execution early.\n",
      "\n",
      "Expressions evaluated per second: 3.660e+05\n",
      "Head worker occupation: 8.6%\n",
      "Progress: 4703 / 15000 total iterations (31.353%)\n",
      "====================================================================================================\n",
      "Hall of Fame:\n",
      "---------------------------------------------------------------------------------------------------\n",
      "Complexity  Loss       Score     Equation\n",
      "1           1.055e-01  1.594e+01  y = 0.57708\n",
      "2           1.055e-01  0.000e+00  y = exp(-0.5496)\n",
      "3           7.979e-02  2.797e-01  y = (0.26629 * x₂)\n",
      "4           7.259e-02  9.453e-02  y = exp(-1.0303 / x₂)\n",
      "5           6.882e-02  5.340e-02  y = ((-0.70127 / x₂) + 0.98153)\n",
      "6           6.706e-02  2.583e-02  y = ((-0.52406 / square(x₂)) + 0.79054)\n",
      "7           6.595e-02  1.676e-02  y = ((-6.7454 / exp(exp(x₂))) + 0.70318)\n",
      "8           6.594e-02  1.754e-04  y = ((-1.2049 / exp(square(square(x₂)))) + 0.70123)\n",
      "9           3.783e-02  5.556e-01  y = (0.26629 * (x₂ + ((0.26629 * x₁) * x₀)))\n",
      "11          1.084e-03  1.776e+00  y = exp(square((x₀ + (-0.96852 * x₁)) / x₂) * -0.56821)\n",
      "12          1.076e-03  6.929e-03  y = square(exp(square((x₀ + (-0.97495 * x₁)) / x₂) * -0.28279)...\n",
      "                                  )\n",
      "13          8.239e-05  2.570e+00  y = (exp(square((x₀ + (-0.96852 * x₁)) / x₂) * -0.50369) * x₃)\n",
      "15          3.764e-06  1.543e+00  y = (exp(square((x₀ + (-0.99694 * x₁)) / (x₂ + x₂)) / -0.50369...\n",
      "                                  ) * x₃)\n",
      "19          3.121e-06  4.680e-02  y = (exp((square(((x₀ + ((-0.50369 * x₁) * 1.9733)) / x₂) * 0....\n",
      "                                  57713) / 1.322) / -0.50369) * x₃)\n",
      "20          5.798e-11  1.089e+01  y = (square(square(square(square(exp((square(x₀ + (-0.99999 * ...\n",
      "                                  x₁)) * -1.2037) / square(x₂ / 0.16113)))))) * x₃)\n",
      "---------------------------------------------------------------------------------------------------\n",
      "====================================================================================================\n",
      "Press 'q' and then <enter> to stop execution early.\n",
      "\n",
      "Expressions evaluated per second: 3.760e+05\n",
      "Head worker occupation: 9.3%\n",
      "Progress: 5563 / 15000 total iterations (37.087%)\n",
      "====================================================================================================\n",
      "Hall of Fame:\n",
      "---------------------------------------------------------------------------------------------------\n",
      "Complexity  Loss       Score     Equation\n",
      "1           1.055e-01  1.594e+01  y = 0.57714\n",
      "3           7.979e-02  1.399e-01  y = (0.26629 * x₂)\n",
      "4           7.259e-02  9.453e-02  y = exp(-1.0303 / x₂)\n",
      "5           6.882e-02  5.340e-02  y = ((-0.70127 / x₂) + 0.98153)\n",
      "6           6.706e-02  2.583e-02  y = ((-0.52406 / square(x₂)) + 0.79054)\n",
      "7           6.595e-02  1.676e-02  y = ((-6.7454 / exp(exp(x₂))) + 0.70318)\n",
      "8           6.594e-02  1.754e-04  y = ((-1.2049 / exp(square(square(x₂)))) + 0.70123)\n",
      "9           3.783e-02  5.556e-01  y = (0.26629 * (x₂ + ((0.26629 * x₁) * x₀)))\n",
      "11          1.084e-03  1.776e+00  y = exp(square((x₀ + (-0.96852 * x₁)) / x₂) * -0.56821)\n",
      "12          1.076e-03  6.929e-03  y = square(exp(square((x₀ + (-0.97495 * x₁)) / x₂) * -0.28279)...\n",
      "                                  )\n",
      "13          2.211e-06  6.188e+00  y = (exp(square((x₀ + (-0.99694 * x₁)) / x₂) * -0.50369) * x₃)\n",
      "15          7.477e-07  5.421e-01  y = (exp(square(((x₀ + (-0.99694 * x₁)) / x₂) * -0.99694) * -0...\n",
      "                                  .50369) * x₃)\n",
      "17          8.356e-12  5.696e+00  y = (exp((square(x₀ + (-0.99999 * x₁)) / -0.99999) / (square(x...\n",
      "                                  ₂) + square(x₂))) * x₃)\n",
      "---------------------------------------------------------------------------------------------------\n",
      "====================================================================================================\n",
      "Press 'q' and then <enter> to stop execution early.\n",
      "\n",
      "Expressions evaluated per second: 3.860e+05\n",
      "Head worker occupation: 8.9%\n",
      "Progress: 6397 / 15000 total iterations (42.647%)\n",
      "====================================================================================================\n",
      "Hall of Fame:\n",
      "---------------------------------------------------------------------------------------------------\n",
      "Complexity  Loss       Score     Equation\n",
      "1           1.055e-01  1.594e+01  y = 0.57714\n",
      "3           7.979e-02  1.399e-01  y = (0.26629 * x₂)\n",
      "4           7.259e-02  9.453e-02  y = exp(-1.0303 / x₂)\n",
      "5           6.882e-02  5.340e-02  y = ((-0.70127 / x₂) + 0.98153)\n",
      "6           6.706e-02  2.583e-02  y = ((-0.52406 / square(x₂)) + 0.79054)\n",
      "7           6.595e-02  1.676e-02  y = ((-6.7454 / exp(exp(x₂))) + 0.70318)\n",
      "8           6.594e-02  1.754e-04  y = ((-1.2049 / exp(square(square(x₂)))) + 0.70123)\n",
      "9           3.783e-02  5.556e-01  y = (0.26629 * (x₂ + ((0.26629 * x₁) * x₀)))\n",
      "11          1.084e-03  1.776e+00  y = exp(square((x₀ + (-0.96852 * x₁)) / x₂) * -0.56821)\n",
      "12          1.076e-03  6.929e-03  y = square(exp(square((x₀ + (-0.97495 * x₁)) / x₂) * -0.28279)...\n",
      "                                  )\n",
      "13          1.333e-06  6.694e+00  y = (exp(square((x₀ + (-0.99694 * x₁)) / x₂) * -0.50257) * x₃)\n",
      "15          7.477e-07  2.891e-01  y = (exp(square(((x₀ + (-0.99694 * x₁)) / x₂) * -0.99694) * -0...\n",
      "                                  .50369) * x₃)\n",
      "17          8.356e-12  5.696e+00  y = (exp((square(x₀ + (-0.99999 * x₁)) / -0.99999) / (square(x...\n",
      "                                  ₂) + square(x₂))) * x₃)\n",
      "---------------------------------------------------------------------------------------------------\n",
      "====================================================================================================\n",
      "Press 'q' and then <enter> to stop execution early.\n",
      "\n",
      "Expressions evaluated per second: 3.930e+05\n",
      "Head worker occupation: 9.0%\n",
      "Progress: 7254 / 15000 total iterations (48.360%)\n",
      "====================================================================================================\n",
      "Hall of Fame:\n",
      "---------------------------------------------------------------------------------------------------\n",
      "Complexity  Loss       Score     Equation\n",
      "1           1.055e-01  1.594e+01  y = 0.57714\n",
      "3           7.979e-02  1.399e-01  y = (0.26629 * x₂)\n",
      "4           7.259e-02  9.453e-02  y = exp(-1.0303 / x₂)\n",
      "5           6.882e-02  5.340e-02  y = ((-0.70127 / x₂) + 0.98153)\n",
      "6           6.706e-02  2.583e-02  y = ((-0.52406 / square(x₂)) + 0.79054)\n",
      "7           6.595e-02  1.676e-02  y = ((-6.7454 / exp(exp(x₂))) + 0.70318)\n",
      "8           6.594e-02  1.754e-04  y = ((-1.2049 / exp(square(square(x₂)))) + 0.70123)\n",
      "9           3.783e-02  5.556e-01  y = (0.26629 * (x₂ + ((0.26629 * x₁) * x₀)))\n",
      "10          3.772e-02  2.805e-03  y = (0.26629 * (x₂ + ((square(-0.5226) * x₁) * x₀)))\n",
      "11          1.084e-03  3.550e+00  y = exp(square((x₀ + (-0.96852 * x₁)) / x₂) * -0.56821)\n",
      "12          1.076e-03  6.929e-03  y = square(exp(square((x₀ + (-0.97495 * x₁)) / x₂) * -0.28279)...\n",
      "                                  )\n",
      "13          1.058e-06  6.925e+00  y = (exp(square((x₀ + (-0.99999 * x₁)) / x₂) * -0.50257) * x₃)\n",
      "15          8.222e-08  1.277e+00  y = (exp(square(((x₀ + (-0.99999 * x₁)) * 0.99815) / x₂) * -0....\n",
      "                                  50257) * x₃)\n",
      "17          8.356e-12  4.596e+00  y = (exp((square(x₀ + (-0.99999 * x₁)) / -0.99999) / (square(x...\n",
      "                                  ₂) + square(x₂))) * x₃)\n",
      "---------------------------------------------------------------------------------------------------\n",
      "====================================================================================================\n",
      "Press 'q' and then <enter> to stop execution early.\n",
      "\n",
      "Expressions evaluated per second: 3.910e+05\n",
      "Head worker occupation: 9.3%\n",
      "Progress: 8090 / 15000 total iterations (53.933%)\n",
      "====================================================================================================\n",
      "Hall of Fame:\n",
      "---------------------------------------------------------------------------------------------------\n",
      "Complexity  Loss       Score     Equation\n",
      "1           1.055e-01  1.594e+01  y = 0.57714\n",
      "3           7.979e-02  1.399e-01  y = (0.26629 * x₂)\n",
      "4           7.259e-02  9.453e-02  y = exp(-1.0303 / x₂)\n",
      "5           6.882e-02  5.340e-02  y = ((-0.70127 / x₂) + 0.98153)\n",
      "6           6.706e-02  2.583e-02  y = ((-0.52406 / square(x₂)) + 0.79054)\n",
      "7           6.595e-02  1.676e-02  y = ((-6.7454 / exp(exp(x₂))) + 0.70318)\n",
      "8           6.594e-02  1.754e-04  y = ((-1.2049 / exp(square(square(x₂)))) + 0.70123)\n",
      "9           3.783e-02  5.556e-01  y = (0.26629 * (x₂ + ((0.26629 * x₁) * x₀)))\n",
      "10          3.771e-02  3.200e-03  y = (0.26629 * (x₂ + ((square(-0.52386) * x₁) * x₀)))\n",
      "11          1.076e-03  3.557e+00  y = exp(square((x₀ + (-0.9773 * x₁)) / x₂) * -0.56437)\n",
      "13          3.947e-07  3.955e+00  y = (exp(square((x₀ + (-0.99999 * x₁)) / x₂) * -0.49844) * x₃)\n",
      "15          8.222e-08  7.844e-01  y = (exp(square(((x₀ + (-0.99999 * x₁)) * 0.99815) / x₂) * -0....\n",
      "                                  50257) * x₃)\n",
      "16          1.464e-11  8.633e+00  y = (square(exp(square((x₀ + (-0.99999 * x₁)) / (x₂ + x₂)) * -...\n",
      "                                  0.99999)) * x₃)\n",
      "17          8.356e-12  5.608e-01  y = (exp((square(x₀ + (-0.99999 * x₁)) / -0.99999) / (square(x...\n",
      "                                  ₂) + square(x₂))) * x₃)\n",
      "---------------------------------------------------------------------------------------------------\n",
      "====================================================================================================\n",
      "Press 'q' and then <enter> to stop execution early.\n",
      "\n",
      "Expressions evaluated per second: 3.910e+05\n",
      "Head worker occupation: 8.9%\n",
      "Progress: 8947 / 15000 total iterations (59.647%)\n",
      "====================================================================================================\n",
      "Hall of Fame:\n",
      "---------------------------------------------------------------------------------------------------\n",
      "Complexity  Loss       Score     Equation\n",
      "1           1.055e-01  1.594e+01  y = 0.57714\n",
      "3           7.979e-02  1.399e-01  y = (0.26629 * x₂)\n",
      "4           7.259e-02  9.453e-02  y = exp(-1.0303 / x₂)\n",
      "5           6.882e-02  5.340e-02  y = ((-0.70127 / x₂) + 0.98153)\n",
      "6           6.706e-02  2.583e-02  y = ((-0.52406 / square(x₂)) + 0.79054)\n",
      "7           6.595e-02  1.676e-02  y = ((-6.7454 / exp(exp(x₂))) + 0.70318)\n",
      "8           6.594e-02  1.754e-04  y = ((-1.2049 / exp(square(square(x₂)))) + 0.70123)\n",
      "9           3.771e-02  5.586e-01  y = (0.26629 * (x₂ + ((x₁ * 0.27373) * x₀)))\n",
      "10          3.765e-02  1.640e-03  y = (0.26629 * (x₂ + ((x₁ / exp(1.2586)) * x₀)))\n",
      "11          1.076e-03  3.555e+00  y = exp(square((x₀ + (-0.9773 * x₁)) / x₂) * -0.56437)\n",
      "13          3.947e-07  3.955e+00  y = (exp(square((x₀ + (-0.99999 * x₁)) / x₂) * -0.49844) * x₃)\n",
      "15          8.222e-08  7.844e-01  y = (exp(square(((x₀ + (-0.99999 * x₁)) * 0.99815) / x₂) * -0....\n",
      "                                  50257) * x₃)"
     ]
    },
    {
     "data": {
      "text/html": [
       "<style>#sk-container-id-7 {color: black;}#sk-container-id-7 pre{padding: 0;}#sk-container-id-7 div.sk-toggleable {background-color: white;}#sk-container-id-7 label.sk-toggleable__label {cursor: pointer;display: block;width: 100%;margin-bottom: 0;padding: 0.3em;box-sizing: border-box;text-align: center;}#sk-container-id-7 label.sk-toggleable__label-arrow:before {content: \"▸\";float: left;margin-right: 0.25em;color: #696969;}#sk-container-id-7 label.sk-toggleable__label-arrow:hover:before {color: black;}#sk-container-id-7 div.sk-estimator:hover label.sk-toggleable__label-arrow:before {color: black;}#sk-container-id-7 div.sk-toggleable__content {max-height: 0;max-width: 0;overflow: hidden;text-align: left;background-color: #f0f8ff;}#sk-container-id-7 div.sk-toggleable__content pre {margin: 0.2em;color: black;border-radius: 0.25em;background-color: #f0f8ff;}#sk-container-id-7 input.sk-toggleable__control:checked~div.sk-toggleable__content {max-height: 200px;max-width: 100%;overflow: auto;}#sk-container-id-7 input.sk-toggleable__control:checked~label.sk-toggleable__label-arrow:before {content: \"▾\";}#sk-container-id-7 div.sk-estimator input.sk-toggleable__control:checked~label.sk-toggleable__label {background-color: #d4ebff;}#sk-container-id-7 div.sk-label input.sk-toggleable__control:checked~label.sk-toggleable__label {background-color: #d4ebff;}#sk-container-id-7 input.sk-hidden--visually {border: 0;clip: rect(1px 1px 1px 1px);clip: rect(1px, 1px, 1px, 1px);height: 1px;margin: -1px;overflow: hidden;padding: 0;position: absolute;width: 1px;}#sk-container-id-7 div.sk-estimator {font-family: monospace;background-color: #f0f8ff;border: 1px dotted black;border-radius: 0.25em;box-sizing: border-box;margin-bottom: 0.5em;}#sk-container-id-7 div.sk-estimator:hover {background-color: #d4ebff;}#sk-container-id-7 div.sk-parallel-item::after {content: \"\";width: 100%;border-bottom: 1px solid gray;flex-grow: 1;}#sk-container-id-7 div.sk-label:hover label.sk-toggleable__label {background-color: #d4ebff;}#sk-container-id-7 div.sk-serial::before {content: \"\";position: absolute;border-left: 1px solid gray;box-sizing: border-box;top: 0;bottom: 0;left: 50%;z-index: 0;}#sk-container-id-7 div.sk-serial {display: flex;flex-direction: column;align-items: center;background-color: white;padding-right: 0.2em;padding-left: 0.2em;position: relative;}#sk-container-id-7 div.sk-item {position: relative;z-index: 1;}#sk-container-id-7 div.sk-parallel {display: flex;align-items: stretch;justify-content: center;background-color: white;position: relative;}#sk-container-id-7 div.sk-item::before, #sk-container-id-7 div.sk-parallel-item::before {content: \"\";position: absolute;border-left: 1px solid gray;box-sizing: border-box;top: 0;bottom: 0;left: 50%;z-index: -1;}#sk-container-id-7 div.sk-parallel-item {display: flex;flex-direction: column;z-index: 1;position: relative;background-color: white;}#sk-container-id-7 div.sk-parallel-item:first-child::after {align-self: flex-end;width: 50%;}#sk-container-id-7 div.sk-parallel-item:last-child::after {align-self: flex-start;width: 50%;}#sk-container-id-7 div.sk-parallel-item:only-child::after {width: 0;}#sk-container-id-7 div.sk-dashed-wrapped {border: 1px dashed gray;margin: 0 0.4em 0.5em 0.4em;box-sizing: border-box;padding-bottom: 0.4em;background-color: white;}#sk-container-id-7 div.sk-label label {font-family: monospace;font-weight: bold;display: inline-block;line-height: 1.2em;}#sk-container-id-7 div.sk-label-container {text-align: center;}#sk-container-id-7 div.sk-container {/* jupyter's `normalize.less` sets `[hidden] { display: none; }` but bootstrap.min.css set `[hidden] { display: none !important; }` so we also need the `!important` here to be able to override the default hidden behavior on the sphinx rendered scikit-learn.org. See: https://github.com/scikit-learn/scikit-learn/issues/21755 */display: inline-block !important;position: relative;}#sk-container-id-7 div.sk-text-repr-fallback {display: none;}</style><div id=\"sk-container-id-7\" class=\"sk-top-container\"><div class=\"sk-text-repr-fallback\"><pre>PySRRegressor.equations_ = [\n",
       "\t    pick     score  ...          loss  complexity\n",
       "\t0         0.000000  ...  1.055409e-01           1\n",
       "\t1         0.139866  ...  7.978748e-02           3\n",
       "\t2         0.094530  ...  7.259067e-02           4\n",
       "\t3         0.053398  ...  6.881616e-02           5\n",
       "\t4         0.025828  ...  6.706155e-02           6\n",
       "\t5         0.016757  ...  6.594713e-02           7\n",
       "\t6         0.000175  ...  6.593558e-02           8\n",
       "\t7         0.560253  ...  3.765346e-02           9\n",
       "\t8         0.000024  ...  3.765257e-02          10\n",
       "\t9         3.555332  ...  1.075805e-03          11\n",
       "\t10        3.955165  ...  3.947491e-07          13\n",
       "\t11        4.465776  ...  5.216721e-11          15\n",
       "\t12        1.270692  ...  1.464007e-11          16\n",
       "\t13  &gt;&gt;&gt;&gt;  0.560781  ...  8.356015e-12          17\n",
       "\t\n",
       "\t[14 rows x 5 columns]\n",
       "]</pre><b>In a Jupyter environment, please rerun this cell to show the HTML representation or trust the notebook. <br />On GitHub, the HTML representation is unable to render, please try loading this page with nbviewer.org.</b></div><div class=\"sk-container\" hidden><div class=\"sk-item\"><div class=\"sk-estimator sk-toggleable\"><input class=\"sk-toggleable__control sk-hidden--visually\" id=\"sk-estimator-id-7\" type=\"checkbox\" checked><label for=\"sk-estimator-id-7\" class=\"sk-toggleable__label sk-toggleable__label-arrow\">PySRRegressor</label><div class=\"sk-toggleable__content\"><pre>PySRRegressor.equations_ = [\n",
       "\t    pick     score  ...          loss  complexity\n",
       "\t0         0.000000  ...  1.055409e-01           1\n",
       "\t1         0.139866  ...  7.978748e-02           3\n",
       "\t2         0.094530  ...  7.259067e-02           4\n",
       "\t3         0.053398  ...  6.881616e-02           5\n",
       "\t4         0.025828  ...  6.706155e-02           6\n",
       "\t5         0.016757  ...  6.594713e-02           7\n",
       "\t6         0.000175  ...  6.593558e-02           8\n",
       "\t7         0.560253  ...  3.765346e-02           9\n",
       "\t8         0.000024  ...  3.765257e-02          10\n",
       "\t9         3.555332  ...  1.075805e-03          11\n",
       "\t10        3.955165  ...  3.947491e-07          13\n",
       "\t11        4.465776  ...  5.216721e-11          15\n",
       "\t12        1.270692  ...  1.464007e-11          16\n",
       "\t13  &gt;&gt;&gt;&gt;  0.560781  ...  8.356015e-12          17\n",
       "\t\n",
       "\t[14 rows x 5 columns]\n",
       "]</pre></div></div></div></div></div>"
      ],
      "text/plain": [
       "PySRRegressor.equations_ = [\n",
       "\t    pick     score  ...          loss  complexity\n",
       "\t0         0.000000  ...  1.055409e-01           1\n",
       "\t1         0.139866  ...  7.978748e-02           3\n",
       "\t2         0.094530  ...  7.259067e-02           4\n",
       "\t3         0.053398  ...  6.881616e-02           5\n",
       "\t4         0.025828  ...  6.706155e-02           6\n",
       "\t5         0.016757  ...  6.594713e-02           7\n",
       "\t6         0.000175  ...  6.593558e-02           8\n",
       "\t7         0.560253  ...  3.765346e-02           9\n",
       "\t8         0.000024  ...  3.765257e-02          10\n",
       "\t9         3.555332  ...  1.075805e-03          11\n",
       "\t10        3.955165  ...  3.947491e-07          13\n",
       "\t11        4.465776  ...  5.216721e-11          15\n",
       "\t12        1.270692  ...  1.464007e-11          16\n",
       "\t13  >>>>  0.560781  ...  8.356015e-12          17\n",
       "\t\n",
       "\t[14 rows x 5 columns]\n",
       "]"
      ]
     },
     "execution_count": 94,
     "metadata": {},
     "output_type": "execute_result"
    },
    {
     "name": "stdout",
     "output_type": "stream",
     "text": [
      "\n",
      "16          1.464e-11  8.633e+00  y = (square(exp(square((x₀ + (-0.99999 * x₁)) / (x₂ + x₂)) * -...\n",
      "                                  0.99999)) * x₃)\n",
      "17          8.356e-12  5.608e-01  y = (exp((square(x₀ + (-0.99999 * x₁)) / -0.99999) / (square(x...\n",
      "                                  ₂) + square(x₂))) * x₃)\n",
      "---------------------------------------------------------------------------------------------------\n",
      "====================================================================================================\n",
      "Press 'q' and then <enter> to stop execution early.\n",
      "\n",
      "Expressions evaluated per second: 3.950e+05\n",
      "Head worker occupation: 8.1%\n",
      "Progress: 9809 / 15000 total iterations (65.393%)\n",
      "====================================================================================================\n",
      "Hall of Fame:\n",
      "---------------------------------------------------------------------------------------------------\n",
      "Complexity  Loss       Score     Equation\n",
      "1           1.055e-01  1.594e+01  y = 0.57714\n",
      "3           7.979e-02  1.399e-01  y = (0.26629 * x₂)\n",
      "4           7.259e-02  9.453e-02  y = exp(-1.0303 / x₂)\n",
      "5           6.882e-02  5.340e-02  y = ((-0.70127 / x₂) + 0.98153)\n",
      "6           6.706e-02  2.583e-02  y = ((-0.52406 / square(x₂)) + 0.79054)\n",
      "7           6.595e-02  1.676e-02  y = ((-6.7454 / exp(exp(x₂))) + 0.70318)\n",
      "8           6.594e-02  1.754e-04  y = ((-1.2049 / exp(square(square(x₂)))) + 0.70123)\n",
      "9           3.768e-02  5.595e-01  y = (0.26629 * (x₂ + ((x₁ * 0.27704) * x₀)))\n",
      "10          3.765e-02  7.938e-04  y = (0.26629 * (x₂ + ((x₁ / exp(1.2586)) * x₀)))\n",
      "11          1.076e-03  3.555e+00  y = exp(square((x₀ + (-0.9773 * x₁)) / x₂) * -0.56437)\n",
      "13          3.947e-07  3.955e+00  y = (exp(square((x₀ + (-0.99999 * x₁)) / x₂) * -0.49844) * x₃)\n",
      "15          8.222e-08  7.844e-01  y = (exp(square(((x₀ + (-0.99999 * x₁)) * 0.99815) / x₂) * -0....\n",
      "                                  50257) * x₃)\n",
      "16          1.464e-11  8.633e+00  y = (square(exp(square((x₀ + (-0.99999 * x₁)) / (x₂ + x₂)) * -...\n",
      "                                  0.99999)) * x₃)\n",
      "17          8.356e-12  5.608e-01  y = (exp((square(x₀ + (-0.99999 * x₁)) / -0.99999) / (square(x...\n",
      "                                  ₂) + square(x₂))) * x₃)\n",
      "---------------------------------------------------------------------------------------------------\n",
      "====================================================================================================\n",
      "Press 'q' and then <enter> to stop execution early.\n",
      "\n",
      "Expressions evaluated per second: 3.870e+05\n",
      "Head worker occupation: 9.4%\n",
      "Progress: 10583 / 15000 total iterations (70.553%)\n",
      "====================================================================================================\n",
      "Hall of Fame:\n",
      "---------------------------------------------------------------------------------------------------\n",
      "Complexity  Loss       Score     Equation\n",
      "1           1.055e-01  1.594e+01  y = 0.57714\n",
      "3           7.979e-02  1.399e-01  y = (0.26629 * x₂)\n",
      "4           7.259e-02  9.453e-02  y = exp(-1.0303 / x₂)\n",
      "5           6.882e-02  5.340e-02  y = ((-0.70127 / x₂) + 0.98153)\n",
      "6           6.706e-02  2.583e-02  y = ((-0.52406 / square(x₂)) + 0.79054)\n",
      "7           6.595e-02  1.676e-02  y = ((-6.7454 / exp(exp(x₂))) + 0.7032)\n",
      "8           6.594e-02  1.750e-04  y = ((-1.2049 / exp(square(square(x₂)))) + 0.70123)\n",
      "9           3.768e-02  5.595e-01  y = (0.26629 * (x₂ + ((x₁ * 0.27704) * x₀)))\n",
      "10          3.765e-02  7.938e-04  y = (0.26629 * (x₂ + ((x₁ / exp(1.2586)) * x₀)))\n",
      "11          1.076e-03  3.555e+00  y = exp(square((x₀ + (-0.9773 * x₁)) / x₂) * -0.56437)\n",
      "13          3.947e-07  3.955e+00  y = (exp(square((x₀ + (-0.99999 * x₁)) / x₂) * -0.49844) * x₃)\n",
      "15          8.222e-08  7.844e-01  y = (exp(square(((x₀ + (-0.99999 * x₁)) * 0.99815) / x₂) * -0....\n",
      "                                  50257) * x₃)\n",
      "16          1.464e-11  8.633e+00  y = (square(exp(square((x₀ + (-0.99999 * x₁)) / (x₂ + x₂)) * -...\n",
      "                                  0.99999)) * x₃)\n",
      "17          8.356e-12  5.608e-01  y = (exp((square(x₀ + (-0.99999 * x₁)) / -0.99999) / (square(x...\n",
      "                                  ₂) + square(x₂))) * x₃)\n",
      "---------------------------------------------------------------------------------------------------\n",
      "====================================================================================================\n",
      "Press 'q' and then <enter> to stop execution early.\n",
      "\n",
      "Expressions evaluated per second: 3.830e+05\n",
      "Head worker occupation: 9.1%\n",
      "Progress: 11388 / 15000 total iterations (75.920%)\n",
      "====================================================================================================\n",
      "Hall of Fame:\n",
      "---------------------------------------------------------------------------------------------------\n",
      "Complexity  Loss       Score     Equation\n",
      "1           1.055e-01  1.594e+01  y = 0.57714\n",
      "3           7.979e-02  1.399e-01  y = (0.26629 * x₂)\n",
      "4           7.259e-02  9.453e-02  y = exp(-1.0303 / x₂)\n",
      "5           6.882e-02  5.340e-02  y = ((-0.70127 / x₂) + 0.98153)\n",
      "6           6.706e-02  2.583e-02  y = ((-0.52406 / square(x₂)) + 0.79054)\n",
      "7           6.595e-02  1.676e-02  y = ((-6.7454 / exp(exp(x₂))) + 0.7032)\n",
      "8           6.594e-02  1.750e-04  y = ((-1.2049 / exp(square(square(x₂)))) + 0.70123)\n",
      "9           3.768e-02  5.596e-01  y = (0.26629 * (x₂ + ((x₁ * 0.29183) * x₀)))\n",
      "10          3.765e-02  7.076e-04  y = (0.26629 * (x₂ + ((x₁ / exp(1.2586)) * x₀)))\n",
      "11          1.076e-03  3.555e+00  y = exp(square((x₀ + (-0.9773 * x₁)) / x₂) * -0.56437)\n",
      "13          3.947e-07  3.955e+00  y = (exp(square((x₀ + (-0.99999 * x₁)) / x₂) * -0.49844) * x₃)\n",
      "15          8.222e-08  7.844e-01  y = (exp(square(((x₀ + (-0.99999 * x₁)) * 0.99815) / x₂) * -0....\n",
      "                                  50257) * x₃)\n",
      "16          1.464e-11  8.633e+00  y = (square(exp(square((x₀ + (-0.99999 * x₁)) / (x₂ + x₂)) * -...\n",
      "                                  0.99999)) * x₃)\n",
      "17          8.356e-12  5.608e-01  y = (exp((square(x₀ + (-0.99999 * x₁)) / -0.99999) / (square(x...\n",
      "                                  ₂) + square(x₂))) * x₃)\n",
      "---------------------------------------------------------------------------------------------------\n",
      "====================================================================================================\n",
      "Press 'q' and then <enter> to stop execution early.\n",
      "\n",
      "Expressions evaluated per second: 3.770e+05\n",
      "Head worker occupation: 8.2%\n",
      "Progress: 12197 / 15000 total iterations (81.313%)\n",
      "====================================================================================================\n",
      "Hall of Fame:\n",
      "---------------------------------------------------------------------------------------------------\n",
      "Complexity  Loss       Score     Equation\n",
      "1           1.055e-01  1.594e+01  y = 0.57714\n",
      "3           7.979e-02  1.399e-01  y = (0.26629 * x₂)\n",
      "4           7.259e-02  9.453e-02  y = exp(-1.0303 / x₂)\n",
      "5           6.882e-02  5.340e-02  y = ((-0.70127 / x₂) + 0.98153)\n",
      "6           6.706e-02  2.583e-02  y = ((-0.52406 / square(x₂)) + 0.79054)\n",
      "7           6.595e-02  1.676e-02  y = ((-6.7454 / exp(exp(x₂))) + 0.7032)\n",
      "8           6.594e-02  1.750e-04  y = ((-1.2049 / exp(square(square(x₂)))) + 0.70123)\n",
      "9           3.768e-02  5.596e-01  y = (0.26629 * (x₂ + ((x₁ * 0.29183) * x₀)))\n",
      "10          3.765e-02  7.076e-04  y = (0.26629 * (x₂ + ((x₁ / exp(1.2586)) * x₀)))\n",
      "11          1.076e-03  3.555e+00  y = exp(square((x₀ + (-0.9773 * x₁)) / x₂) * -0.56437)\n",
      "13          3.947e-07  3.955e+00  y = (exp(square((x₀ + (-0.99999 * x₁)) / x₂) * -0.49844) * x₃)\n",
      "15          8.222e-08  7.844e-01  y = (exp(square(((x₀ + (-0.99999 * x₁)) * 0.99815) / x₂) * -0....\n",
      "                                  50257) * x₃)\n",
      "16          1.464e-11  8.633e+00  y = (square(exp(square((x₀ + (-0.99999 * x₁)) / (x₂ + x₂)) * -...\n",
      "                                  0.99999)) * x₃)\n",
      "17          8.356e-12  5.608e-01  y = (exp((square(x₀ + (-0.99999 * x₁)) / -0.99999) / (square(x...\n",
      "                                  ₂) + square(x₂))) * x₃)\n",
      "---------------------------------------------------------------------------------------------------\n",
      "====================================================================================================\n",
      "Press 'q' and then <enter> to stop execution early.\n",
      "\n",
      "Expressions evaluated per second: 3.730e+05\n",
      "Head worker occupation: 8.2%\n",
      "Progress: 13012 / 15000 total iterations (86.747%)\n",
      "====================================================================================================\n",
      "Hall of Fame:\n",
      "---------------------------------------------------------------------------------------------------\n",
      "Complexity  Loss       Score     Equation\n",
      "1           1.055e-01  1.594e+01  y = 0.57714\n",
      "3           7.979e-02  1.399e-01  y = (0.26629 * x₂)\n",
      "4           7.259e-02  9.453e-02  y = exp(-1.0303 / x₂)\n",
      "5           6.882e-02  5.340e-02  y = ((-0.70127 / x₂) + 0.98153)\n",
      "6           6.706e-02  2.583e-02  y = ((-0.52406 / square(x₂)) + 0.79054)\n",
      "7           6.595e-02  1.676e-02  y = ((-6.7454 / exp(exp(x₂))) + 0.7032)\n",
      "8           6.594e-02  1.750e-04  y = ((-1.2049 / exp(square(square(x₂)))) + 0.70123)\n",
      "9           3.765e-02  5.602e-01  y = (0.26629 * (x₂ + ((x₁ * 0.28659) * x₀)))\n",
      "10          3.765e-02  4.685e-05  y = (0.26629 * (x₂ + ((x₁ / exp(1.2586)) * x₀)))\n",
      "11          1.076e-03  3.555e+00  y = exp(square((x₀ + (-0.9773 * x₁)) / x₂) * -0.56437)\n",
      "13          3.947e-07  3.955e+00  y = (exp(square((x₀ + (-0.99999 * x₁)) / x₂) * -0.49844) * x₃)\n",
      "15          4.995e-08  1.034e+00  y = (exp(square(((x₀ + (-0.99999 * x₁)) * 0.99799) / x₂) * -0....\n",
      "                                  50257) * x₃)\n",
      "16          1.464e-11  8.135e+00  y = (square(exp(square((x₀ + (-0.99999 * x₁)) / (x₂ + x₂)) * -...\n",
      "                                  0.99999)) * x₃)\n",
      "17          8.356e-12  5.608e-01  y = (exp((square(x₀ + (-0.99999 * x₁)) / -0.99999) / (square(x...\n",
      "                                  ₂) + square(x₂))) * x₃)\n",
      "---------------------------------------------------------------------------------------------------\n",
      "====================================================================================================\n",
      "Press 'q' and then <enter> to stop execution early.\n",
      "\n",
      "Expressions evaluated per second: 3.750e+05\n",
      "Head worker occupation: 9.0%\n",
      "Progress: 13830 / 15000 total iterations (92.200%)\n",
      "====================================================================================================\n",
      "Hall of Fame:\n",
      "---------------------------------------------------------------------------------------------------\n",
      "Complexity  Loss       Score     Equation\n",
      "1           1.055e-01  1.594e+01  y = 0.57714\n",
      "3           7.979e-02  1.399e-01  y = (0.26629 * x₂)\n",
      "4           7.259e-02  9.453e-02  y = exp(-1.0303 / x₂)\n",
      "5           6.882e-02  5.340e-02  y = ((-0.70127 / x₂) + 0.98153)\n",
      "6           6.706e-02  2.583e-02  y = ((-0.52406 / square(x₂)) + 0.79054)\n",
      "7           6.595e-02  1.676e-02  y = ((-6.7454 / exp(exp(x₂))) + 0.7032)\n",
      "8           6.594e-02  1.750e-04  y = ((-1.2049 / exp(square(square(x₂)))) + 0.70123)\n",
      "9           3.765e-02  5.602e-01  y = (0.26629 * (x₂ + ((x₁ * 0.28659) * x₀)))\n",
      "10          3.765e-02  4.685e-05  y = (0.26629 * (x₂ + ((x₁ / exp(1.2586)) * x₀)))\n",
      "11          1.076e-03  3.555e+00  y = exp(square((x₀ + (-0.9773 * x₁)) / x₂) * -0.56437)\n",
      "13          3.947e-07  3.955e+00  y = (exp(square((x₀ + (-0.99999 * x₁)) / x₂) * -0.49844) * x₃)\n",
      "15          4.995e-08  1.034e+00  y = (exp(square(((x₀ + (-0.99999 * x₁)) * 0.99799) / x₂) * -0....\n",
      "                                  50257) * x₃)\n",
      "16          1.464e-11  8.135e+00  y = (square(exp(square((x₀ + (-0.99999 * x₁)) / (x₂ + x₂)) * -...\n",
      "                                  0.99999)) * x₃)\n",
      "17          8.356e-12  5.608e-01  y = (exp((square(x₀ + (-0.99999 * x₁)) / -0.99999) / (square(x...\n",
      "                                  ₂) + square(x₂))) * x₃)\n",
      "---------------------------------------------------------------------------------------------------\n",
      "====================================================================================================\n",
      "Press 'q' and then <enter> to stop execution early.\n",
      "\n",
      "Expressions evaluated per second: 3.770e+05\n",
      "Head worker occupation: 9.0%\n",
      "Progress: 14639 / 15000 total iterations (97.593%)\n",
      "====================================================================================================\n",
      "Hall of Fame:\n",
      "---------------------------------------------------------------------------------------------------\n",
      "Complexity  Loss       Score     Equation\n",
      "1           1.055e-01  1.594e+01  y = 0.57714\n",
      "3           7.979e-02  1.399e-01  y = (0.26629 * x₂)\n",
      "4           7.259e-02  9.453e-02  y = exp(-1.0303 / x₂)\n",
      "5           6.882e-02  5.340e-02  y = ((-0.70127 / x₂) + 0.98153)\n",
      "6           6.706e-02  2.583e-02  y = ((-0.52406 / square(x₂)) + 0.79054)\n",
      "7           6.595e-02  1.676e-02  y = ((-6.7454 / exp(exp(x₂))) + 0.7032)\n",
      "8           6.594e-02  1.750e-04  y = ((-1.2049 / exp(square(square(x₂)))) + 0.70123)\n",
      "9           3.765e-02  5.603e-01  y = (0.26629 * (x₂ + ((x₁ * 0.28609) * x₀)))\n",
      "10          3.765e-02  2.360e-05  y = (0.26629 * (x₂ + ((x₁ / exp(1.2586)) * x₀)))\n",
      "11          1.076e-03  3.555e+00  y = exp(square((x₀ + (-0.9773 * x₁)) / x₂) * -0.56437)\n",
      "13          3.947e-07  3.955e+00  y = (exp(square((x₀ + (-0.99999 * x₁)) / x₂) * -0.49844) * x₃)\n",
      "15          5.217e-11  4.465e+00  y = (exp(square((x₀ + (-0.99999 * x₁)) / x₂) * (0.034856 + -0....\n",
      "                                  53487)) * x₃)\n",
      "16          1.464e-11  1.271e+00  y = (square(exp(square((x₀ + (-0.99999 * x₁)) / (x₂ + x₂)) * -...\n",
      "                                  0.99999)) * x₃)\n",
      "17          8.356e-12  5.608e-01  y = (exp((square(x₀ + (-0.99999 * x₁)) / -0.99999) / (square(x...\n",
      "                                  ₂) + square(x₂))) * x₃)\n",
      "---------------------------------------------------------------------------------------------------\n",
      "====================================================================================================\n",
      "Press 'q' and then <enter> to stop execution early.\n"
     ]
    }
   ],
   "source": [
    "model.fit(X, y)"
   ]
  },
  {
   "cell_type": "code",
   "execution_count": 95,
   "id": "9749e5fb-5ecb-414f-b6f2-3d0a16119c66",
   "metadata": {
    "tags": []
   },
   "outputs": [
    {
     "data": {
      "text/latex": [
       "$\\displaystyle x_{3} e^{- \\frac{0.500004750045125 \\left(x_{0} - 0.9999905 x_{1}\\right)^{2}}{x_{2}^{2}}}$"
      ],
      "text/plain": [
       "x3*exp(-0.500004750045125*(x0 - 0.9999905*x1)**2/x2**2)"
      ]
     },
     "execution_count": 95,
     "metadata": {},
     "output_type": "execute_result"
    }
   ],
   "source": [
    "model.sympy()"
   ]
  },
  {
   "cell_type": "code",
   "execution_count": 97,
   "id": "01f04669-8e6e-4d61-9b33-b78d8899439b",
   "metadata": {
    "tags": []
   },
   "outputs": [
    {
     "data": {
      "application/vnd.plotly.v1+json": {
       "config": {
        "plotlyServerURL": "https://plot.ly"
       },
       "data": [
        {
         "type": "scatter",
         "x": [
          0.5601247513498804,
          0.8927762361396243,
          0.9209188061610015,
          0.9379477624146506,
          0.8190863983171154,
          0.06064176346985677,
          0.5639010197455205,
          0.001120381658626057,
          0.3409971336281181,
          3.480261570835291e-06,
          0.7220852347243677,
          0.7308428794047465,
          0.893362783972529,
          0.9755343269926525,
          0.7866606235064374,
          0.7509203523112622,
          0.7663020258315317,
          0.02817789988298872,
          0.4929164649853518,
          0.12493393702522995,
          0.59936650134328,
          0.7248940324635261,
          0.6407387538536603,
          0.876691108806051,
          0.9247662240292163,
          0.9496171822749984,
          0.7971018990837689,
          0.24810259204982288,
          0.47019979563290176,
          0.010364763429160234,
          0.3885195030073219,
          0.003756397108192632,
          0.4076670857507933,
          0.12241162690882547,
          0.7292116745063867,
          0.8745154175234552,
          0.9658254666791477,
          0.7705884016170799,
          0.7426306494296258,
          0.12721951885846455,
          0.23558922324718684,
          8.12642482684033e-05,
          0.46742816388647196,
          0.5601380466826922,
          0.47993736243040175,
          0.6807802433728334,
          0.9126780196131634,
          0.9700802468337884,
          0.9015356734040402,
          0.9047787121652325
         ],
         "y": [
          0.5601114483175301,
          0.8927701105043461,
          0.9209201427444353,
          0.9379492474950807,
          0.8190880794679365,
          0.060642883668029855,
          0.5639019125866814,
          0.0011203881629424683,
          0.34099687366121745,
          3.4801789141911543e-06,
          0.7220821858938955,
          0.7308390221437288,
          0.893360897958425,
          0.9755343269877613,
          0.7866639449654712,
          0.7509211449488892,
          0.7663020258276896,
          0.028177661933751322,
          0.4929153087494457,
          0.12493275014578138,
          0.5993636543321139,
          0.724891949495051,
          0.6407366402890948,
          0.8766900677260873,
          0.9247661697985846,
          0.9496170569771047,
          0.7971009525168335,
          0.2480993184644534,
          0.47019675564155955,
          0.010364320340785417,
          0.3885178625775739,
          0.0037563178063901278,
          0.4076662251084126,
          0.1224116269033018,
          0.7292124442293132,
          0.8745163406224536,
          0.9658254666743051,
          0.7705818943570164,
          0.7426267299548175,
          0.12721468455693394,
          0.2355886015435928,
          8.126369068731474e-05,
          0.46742846540007865,
          0.5601389335658266,
          0.479939578812321,
          0.6807833872602245,
          0.9126794646832623,
          0.97008087258212,
          0.9015341269658872,
          0.904776324517064
         ]
        }
       ],
       "layout": {
        "autosize": true,
        "template": {
         "data": {
          "bar": [
           {
            "error_x": {
             "color": "#2a3f5f"
            },
            "error_y": {
             "color": "#2a3f5f"
            },
            "marker": {
             "line": {
              "color": "#E5ECF6",
              "width": 0.5
             },
             "pattern": {
              "fillmode": "overlay",
              "size": 10,
              "solidity": 0.2
             }
            },
            "type": "bar"
           }
          ],
          "barpolar": [
           {
            "marker": {
             "line": {
              "color": "#E5ECF6",
              "width": 0.5
             },
             "pattern": {
              "fillmode": "overlay",
              "size": 10,
              "solidity": 0.2
             }
            },
            "type": "barpolar"
           }
          ],
          "carpet": [
           {
            "aaxis": {
             "endlinecolor": "#2a3f5f",
             "gridcolor": "white",
             "linecolor": "white",
             "minorgridcolor": "white",
             "startlinecolor": "#2a3f5f"
            },
            "baxis": {
             "endlinecolor": "#2a3f5f",
             "gridcolor": "white",
             "linecolor": "white",
             "minorgridcolor": "white",
             "startlinecolor": "#2a3f5f"
            },
            "type": "carpet"
           }
          ],
          "choropleth": [
           {
            "colorbar": {
             "outlinewidth": 0,
             "ticks": ""
            },
            "type": "choropleth"
           }
          ],
          "contour": [
           {
            "colorbar": {
             "outlinewidth": 0,
             "ticks": ""
            },
            "colorscale": [
             [
              0,
              "#0d0887"
             ],
             [
              0.1111111111111111,
              "#46039f"
             ],
             [
              0.2222222222222222,
              "#7201a8"
             ],
             [
              0.3333333333333333,
              "#9c179e"
             ],
             [
              0.4444444444444444,
              "#bd3786"
             ],
             [
              0.5555555555555556,
              "#d8576b"
             ],
             [
              0.6666666666666666,
              "#ed7953"
             ],
             [
              0.7777777777777778,
              "#fb9f3a"
             ],
             [
              0.8888888888888888,
              "#fdca26"
             ],
             [
              1,
              "#f0f921"
             ]
            ],
            "type": "contour"
           }
          ],
          "contourcarpet": [
           {
            "colorbar": {
             "outlinewidth": 0,
             "ticks": ""
            },
            "type": "contourcarpet"
           }
          ],
          "heatmap": [
           {
            "colorbar": {
             "outlinewidth": 0,
             "ticks": ""
            },
            "colorscale": [
             [
              0,
              "#0d0887"
             ],
             [
              0.1111111111111111,
              "#46039f"
             ],
             [
              0.2222222222222222,
              "#7201a8"
             ],
             [
              0.3333333333333333,
              "#9c179e"
             ],
             [
              0.4444444444444444,
              "#bd3786"
             ],
             [
              0.5555555555555556,
              "#d8576b"
             ],
             [
              0.6666666666666666,
              "#ed7953"
             ],
             [
              0.7777777777777778,
              "#fb9f3a"
             ],
             [
              0.8888888888888888,
              "#fdca26"
             ],
             [
              1,
              "#f0f921"
             ]
            ],
            "type": "heatmap"
           }
          ],
          "heatmapgl": [
           {
            "colorbar": {
             "outlinewidth": 0,
             "ticks": ""
            },
            "colorscale": [
             [
              0,
              "#0d0887"
             ],
             [
              0.1111111111111111,
              "#46039f"
             ],
             [
              0.2222222222222222,
              "#7201a8"
             ],
             [
              0.3333333333333333,
              "#9c179e"
             ],
             [
              0.4444444444444444,
              "#bd3786"
             ],
             [
              0.5555555555555556,
              "#d8576b"
             ],
             [
              0.6666666666666666,
              "#ed7953"
             ],
             [
              0.7777777777777778,
              "#fb9f3a"
             ],
             [
              0.8888888888888888,
              "#fdca26"
             ],
             [
              1,
              "#f0f921"
             ]
            ],
            "type": "heatmapgl"
           }
          ],
          "histogram": [
           {
            "marker": {
             "pattern": {
              "fillmode": "overlay",
              "size": 10,
              "solidity": 0.2
             }
            },
            "type": "histogram"
           }
          ],
          "histogram2d": [
           {
            "colorbar": {
             "outlinewidth": 0,
             "ticks": ""
            },
            "colorscale": [
             [
              0,
              "#0d0887"
             ],
             [
              0.1111111111111111,
              "#46039f"
             ],
             [
              0.2222222222222222,
              "#7201a8"
             ],
             [
              0.3333333333333333,
              "#9c179e"
             ],
             [
              0.4444444444444444,
              "#bd3786"
             ],
             [
              0.5555555555555556,
              "#d8576b"
             ],
             [
              0.6666666666666666,
              "#ed7953"
             ],
             [
              0.7777777777777778,
              "#fb9f3a"
             ],
             [
              0.8888888888888888,
              "#fdca26"
             ],
             [
              1,
              "#f0f921"
             ]
            ],
            "type": "histogram2d"
           }
          ],
          "histogram2dcontour": [
           {
            "colorbar": {
             "outlinewidth": 0,
             "ticks": ""
            },
            "colorscale": [
             [
              0,
              "#0d0887"
             ],
             [
              0.1111111111111111,
              "#46039f"
             ],
             [
              0.2222222222222222,
              "#7201a8"
             ],
             [
              0.3333333333333333,
              "#9c179e"
             ],
             [
              0.4444444444444444,
              "#bd3786"
             ],
             [
              0.5555555555555556,
              "#d8576b"
             ],
             [
              0.6666666666666666,
              "#ed7953"
             ],
             [
              0.7777777777777778,
              "#fb9f3a"
             ],
             [
              0.8888888888888888,
              "#fdca26"
             ],
             [
              1,
              "#f0f921"
             ]
            ],
            "type": "histogram2dcontour"
           }
          ],
          "mesh3d": [
           {
            "colorbar": {
             "outlinewidth": 0,
             "ticks": ""
            },
            "type": "mesh3d"
           }
          ],
          "parcoords": [
           {
            "line": {
             "colorbar": {
              "outlinewidth": 0,
              "ticks": ""
             }
            },
            "type": "parcoords"
           }
          ],
          "pie": [
           {
            "automargin": true,
            "type": "pie"
           }
          ],
          "scatter": [
           {
            "fillpattern": {
             "fillmode": "overlay",
             "size": 10,
             "solidity": 0.2
            },
            "type": "scatter"
           }
          ],
          "scatter3d": [
           {
            "line": {
             "colorbar": {
              "outlinewidth": 0,
              "ticks": ""
             }
            },
            "marker": {
             "colorbar": {
              "outlinewidth": 0,
              "ticks": ""
             }
            },
            "type": "scatter3d"
           }
          ],
          "scattercarpet": [
           {
            "marker": {
             "colorbar": {
              "outlinewidth": 0,
              "ticks": ""
             }
            },
            "type": "scattercarpet"
           }
          ],
          "scattergeo": [
           {
            "marker": {
             "colorbar": {
              "outlinewidth": 0,
              "ticks": ""
             }
            },
            "type": "scattergeo"
           }
          ],
          "scattergl": [
           {
            "marker": {
             "colorbar": {
              "outlinewidth": 0,
              "ticks": ""
             }
            },
            "type": "scattergl"
           }
          ],
          "scattermapbox": [
           {
            "marker": {
             "colorbar": {
              "outlinewidth": 0,
              "ticks": ""
             }
            },
            "type": "scattermapbox"
           }
          ],
          "scatterpolar": [
           {
            "marker": {
             "colorbar": {
              "outlinewidth": 0,
              "ticks": ""
             }
            },
            "type": "scatterpolar"
           }
          ],
          "scatterpolargl": [
           {
            "marker": {
             "colorbar": {
              "outlinewidth": 0,
              "ticks": ""
             }
            },
            "type": "scatterpolargl"
           }
          ],
          "scatterternary": [
           {
            "marker": {
             "colorbar": {
              "outlinewidth": 0,
              "ticks": ""
             }
            },
            "type": "scatterternary"
           }
          ],
          "surface": [
           {
            "colorbar": {
             "outlinewidth": 0,
             "ticks": ""
            },
            "colorscale": [
             [
              0,
              "#0d0887"
             ],
             [
              0.1111111111111111,
              "#46039f"
             ],
             [
              0.2222222222222222,
              "#7201a8"
             ],
             [
              0.3333333333333333,
              "#9c179e"
             ],
             [
              0.4444444444444444,
              "#bd3786"
             ],
             [
              0.5555555555555556,
              "#d8576b"
             ],
             [
              0.6666666666666666,
              "#ed7953"
             ],
             [
              0.7777777777777778,
              "#fb9f3a"
             ],
             [
              0.8888888888888888,
              "#fdca26"
             ],
             [
              1,
              "#f0f921"
             ]
            ],
            "type": "surface"
           }
          ],
          "table": [
           {
            "cells": {
             "fill": {
              "color": "#EBF0F8"
             },
             "line": {
              "color": "white"
             }
            },
            "header": {
             "fill": {
              "color": "#C8D4E3"
             },
             "line": {
              "color": "white"
             }
            },
            "type": "table"
           }
          ]
         },
         "layout": {
          "annotationdefaults": {
           "arrowcolor": "#2a3f5f",
           "arrowhead": 0,
           "arrowwidth": 1
          },
          "autotypenumbers": "strict",
          "coloraxis": {
           "colorbar": {
            "outlinewidth": 0,
            "ticks": ""
           }
          },
          "colorscale": {
           "diverging": [
            [
             0,
             "#8e0152"
            ],
            [
             0.1,
             "#c51b7d"
            ],
            [
             0.2,
             "#de77ae"
            ],
            [
             0.3,
             "#f1b6da"
            ],
            [
             0.4,
             "#fde0ef"
            ],
            [
             0.5,
             "#f7f7f7"
            ],
            [
             0.6,
             "#e6f5d0"
            ],
            [
             0.7,
             "#b8e186"
            ],
            [
             0.8,
             "#7fbc41"
            ],
            [
             0.9,
             "#4d9221"
            ],
            [
             1,
             "#276419"
            ]
           ],
           "sequential": [
            [
             0,
             "#0d0887"
            ],
            [
             0.1111111111111111,
             "#46039f"
            ],
            [
             0.2222222222222222,
             "#7201a8"
            ],
            [
             0.3333333333333333,
             "#9c179e"
            ],
            [
             0.4444444444444444,
             "#bd3786"
            ],
            [
             0.5555555555555556,
             "#d8576b"
            ],
            [
             0.6666666666666666,
             "#ed7953"
            ],
            [
             0.7777777777777778,
             "#fb9f3a"
            ],
            [
             0.8888888888888888,
             "#fdca26"
            ],
            [
             1,
             "#f0f921"
            ]
           ],
           "sequentialminus": [
            [
             0,
             "#0d0887"
            ],
            [
             0.1111111111111111,
             "#46039f"
            ],
            [
             0.2222222222222222,
             "#7201a8"
            ],
            [
             0.3333333333333333,
             "#9c179e"
            ],
            [
             0.4444444444444444,
             "#bd3786"
            ],
            [
             0.5555555555555556,
             "#d8576b"
            ],
            [
             0.6666666666666666,
             "#ed7953"
            ],
            [
             0.7777777777777778,
             "#fb9f3a"
            ],
            [
             0.8888888888888888,
             "#fdca26"
            ],
            [
             1,
             "#f0f921"
            ]
           ]
          },
          "colorway": [
           "#636efa",
           "#EF553B",
           "#00cc96",
           "#ab63fa",
           "#FFA15A",
           "#19d3f3",
           "#FF6692",
           "#B6E880",
           "#FF97FF",
           "#FECB52"
          ],
          "font": {
           "color": "#2a3f5f"
          },
          "geo": {
           "bgcolor": "white",
           "lakecolor": "white",
           "landcolor": "#E5ECF6",
           "showlakes": true,
           "showland": true,
           "subunitcolor": "white"
          },
          "hoverlabel": {
           "align": "left"
          },
          "hovermode": "closest",
          "mapbox": {
           "style": "light"
          },
          "paper_bgcolor": "white",
          "plot_bgcolor": "#E5ECF6",
          "polar": {
           "angularaxis": {
            "gridcolor": "white",
            "linecolor": "white",
            "ticks": ""
           },
           "bgcolor": "#E5ECF6",
           "radialaxis": {
            "gridcolor": "white",
            "linecolor": "white",
            "ticks": ""
           }
          },
          "scene": {
           "xaxis": {
            "backgroundcolor": "#E5ECF6",
            "gridcolor": "white",
            "gridwidth": 2,
            "linecolor": "white",
            "showbackground": true,
            "ticks": "",
            "zerolinecolor": "white"
           },
           "yaxis": {
            "backgroundcolor": "#E5ECF6",
            "gridcolor": "white",
            "gridwidth": 2,
            "linecolor": "white",
            "showbackground": true,
            "ticks": "",
            "zerolinecolor": "white"
           },
           "zaxis": {
            "backgroundcolor": "#E5ECF6",
            "gridcolor": "white",
            "gridwidth": 2,
            "linecolor": "white",
            "showbackground": true,
            "ticks": "",
            "zerolinecolor": "white"
           }
          },
          "shapedefaults": {
           "line": {
            "color": "#2a3f5f"
           }
          },
          "ternary": {
           "aaxis": {
            "gridcolor": "white",
            "linecolor": "white",
            "ticks": ""
           },
           "baxis": {
            "gridcolor": "white",
            "linecolor": "white",
            "ticks": ""
           },
           "bgcolor": "#E5ECF6",
           "caxis": {
            "gridcolor": "white",
            "linecolor": "white",
            "ticks": ""
           }
          },
          "title": {
           "x": 0.05
          },
          "xaxis": {
           "automargin": true,
           "gridcolor": "white",
           "linecolor": "white",
           "ticks": "",
           "title": {
            "standoff": 15
           },
           "zerolinecolor": "white",
           "zerolinewidth": 2
          },
          "yaxis": {
           "automargin": true,
           "gridcolor": "white",
           "linecolor": "white",
           "ticks": "",
           "title": {
            "standoff": 15
           },
           "zerolinecolor": "white",
           "zerolinewidth": 2
          }
         }
        },
        "xaxis": {
         "autorange": true,
         "range": [
          3.480261570835291e-06,
          0.9755343269926525
         ],
         "type": "linear"
        },
        "yaxis": {
         "autorange": true,
         "range": [
          -0.054192677977132876,
          1.0297304851438085
         ],
         "type": "linear"
        }
       }
      },
      "image/png": "[encoded data removed]",
      "text/html": [
       "<div>                            <div id=\"a3e417d1-90f2-4c30-85e1-019a8200a928\" class=\"plotly-graph-div\" style=\"height:525px; width:100%;\"></div>            <script type=\"text/javascript\">                require([\"plotly\"], function(Plotly) {                    window.PLOTLYENV=window.PLOTLYENV || {};                                    if (document.getElementById(\"a3e417d1-90f2-4c30-85e1-019a8200a928\")) {                    Plotly.newPlot(                        \"a3e417d1-90f2-4c30-85e1-019a8200a928\",                        [{\"x\":[0.5601247513498804,0.8927762361396243,0.9209188061610015,0.9379477624146506,0.8190863983171154,0.06064176346985677,0.5639010197455205,0.001120381658626057,0.3409971336281181,3.480261570835291e-06,0.7220852347243677,0.7308428794047465,0.893362783972529,0.9755343269926525,0.7866606235064374,0.7509203523112622,0.7663020258315317,0.02817789988298872,0.4929164649853518,0.12493393702522995,0.59936650134328,0.7248940324635261,0.6407387538536603,0.876691108806051,0.9247662240292163,0.9496171822749984,0.7971018990837689,0.24810259204982288,0.47019979563290176,0.010364763429160234,0.3885195030073219,0.003756397108192632,0.4076670857507933,0.12241162690882547,0.7292116745063867,0.8745154175234552,0.9658254666791477,0.7705884016170799,0.7426306494296258,0.12721951885846455,0.23558922324718684,8.12642482684033e-05,0.46742816388647196,0.5601380466826922,0.47993736243040175,0.6807802433728334,0.9126780196131634,0.9700802468337884,0.9015356734040402,0.9047787121652325],\"y\":[0.5601114483175301,0.8927701105043461,0.9209201427444353,0.9379492474950807,0.8190880794679365,0.060642883668029855,0.5639019125866814,0.0011203881629424683,0.34099687366121745,3.4801789141911543e-06,0.7220821858938955,0.7308390221437288,0.893360897958425,0.9755343269877613,0.7866639449654712,0.7509211449488892,0.7663020258276896,0.028177661933751322,0.4929153087494457,0.12493275014578138,0.5993636543321139,0.724891949495051,0.6407366402890948,0.8766900677260873,0.9247661697985846,0.9496170569771047,0.7971009525168335,0.2480993184644534,0.47019675564155955,0.010364320340785417,0.3885178625775739,0.0037563178063901278,0.4076662251084126,0.1224116269033018,0.7292124442293132,0.8745163406224536,0.9658254666743051,0.7705818943570164,0.7426267299548175,0.12721468455693394,0.2355886015435928,8.126369068731474e-05,0.46742846540007865,0.5601389335658266,0.479939578812321,0.6807833872602245,0.9126794646832623,0.97008087258212,0.9015341269658872,0.904776324517064],\"type\":\"scatter\"}],                        {\"template\":{\"data\":{\"histogram2dcontour\":[{\"type\":\"histogram2dcontour\",\"colorbar\":{\"outlinewidth\":0,\"ticks\":\"\"},\"colorscale\":[[0.0,\"#0d0887\"],[0.1111111111111111,\"#46039f\"],[0.2222222222222222,\"#7201a8\"],[0.3333333333333333,\"#9c179e\"],[0.4444444444444444,\"#bd3786\"],[0.5555555555555556,\"#d8576b\"],[0.6666666666666666,\"#ed7953\"],[0.7777777777777778,\"#fb9f3a\"],[0.8888888888888888,\"#fdca26\"],[1.0,\"#f0f921\"]]}],\"choropleth\":[{\"type\":\"choropleth\",\"colorbar\":{\"outlinewidth\":0,\"ticks\":\"\"}}],\"histogram2d\":[{\"type\":\"histogram2d\",\"colorbar\":{\"outlinewidth\":0,\"ticks\":\"\"},\"colorscale\":[[0.0,\"#0d0887\"],[0.1111111111111111,\"#46039f\"],[0.2222222222222222,\"#7201a8\"],[0.3333333333333333,\"#9c179e\"],[0.4444444444444444,\"#bd3786\"],[0.5555555555555556,\"#d8576b\"],[0.6666666666666666,\"#ed7953\"],[0.7777777777777778,\"#fb9f3a\"],[0.8888888888888888,\"#fdca26\"],[1.0,\"#f0f921\"]]}],\"heatmap\":[{\"type\":\"heatmap\",\"colorbar\":{\"outlinewidth\":0,\"ticks\":\"\"},\"colorscale\":[[0.0,\"#0d0887\"],[0.1111111111111111,\"#46039f\"],[0.2222222222222222,\"#7201a8\"],[0.3333333333333333,\"#9c179e\"],[0.4444444444444444,\"#bd3786\"],[0.5555555555555556,\"#d8576b\"],[0.6666666666666666,\"#ed7953\"],[0.7777777777777778,\"#fb9f3a\"],[0.8888888888888888,\"#fdca26\"],[1.0,\"#f0f921\"]]}],\"heatmapgl\":[{\"type\":\"heatmapgl\",\"colorbar\":{\"outlinewidth\":0,\"ticks\":\"\"},\"colorscale\":[[0.0,\"#0d0887\"],[0.1111111111111111,\"#46039f\"],[0.2222222222222222,\"#7201a8\"],[0.3333333333333333,\"#9c179e\"],[0.4444444444444444,\"#bd3786\"],[0.5555555555555556,\"#d8576b\"],[0.6666666666666666,\"#ed7953\"],[0.7777777777777778,\"#fb9f3a\"],[0.8888888888888888,\"#fdca26\"],[1.0,\"#f0f921\"]]}],\"contourcarpet\":[{\"type\":\"contourcarpet\",\"colorbar\":{\"outlinewidth\":0,\"ticks\":\"\"}}],\"contour\":[{\"type\":\"contour\",\"colorbar\":{\"outlinewidth\":0,\"ticks\":\"\"},\"colorscale\":[[0.0,\"#0d0887\"],[0.1111111111111111,\"#46039f\"],[0.2222222222222222,\"#7201a8\"],[0.3333333333333333,\"#9c179e\"],[0.4444444444444444,\"#bd3786\"],[0.5555555555555556,\"#d8576b\"],[0.6666666666666666,\"#ed7953\"],[0.7777777777777778,\"#fb9f3a\"],[0.8888888888888888,\"#fdca26\"],[1.0,\"#f0f921\"]]}],\"surface\":[{\"type\":\"surface\",\"colorbar\":{\"outlinewidth\":0,\"ticks\":\"\"},\"colorscale\":[[0.0,\"#0d0887\"],[0.1111111111111111,\"#46039f\"],[0.2222222222222222,\"#7201a8\"],[0.3333333333333333,\"#9c179e\"],[0.4444444444444444,\"#bd3786\"],[0.5555555555555556,\"#d8576b\"],[0.6666666666666666,\"#ed7953\"],[0.7777777777777778,\"#fb9f3a\"],[0.8888888888888888,\"#fdca26\"],[1.0,\"#f0f921\"]]}],\"mesh3d\":[{\"type\":\"mesh3d\",\"colorbar\":{\"outlinewidth\":0,\"ticks\":\"\"}}],\"scatter\":[{\"fillpattern\":{\"fillmode\":\"overlay\",\"size\":10,\"solidity\":0.2},\"type\":\"scatter\"}],\"parcoords\":[{\"type\":\"parcoords\",\"line\":{\"colorbar\":{\"outlinewidth\":0,\"ticks\":\"\"}}}],\"scatterpolargl\":[{\"type\":\"scatterpolargl\",\"marker\":{\"colorbar\":{\"outlinewidth\":0,\"ticks\":\"\"}}}],\"bar\":[{\"error_x\":{\"color\":\"#2a3f5f\"},\"error_y\":{\"color\":\"#2a3f5f\"},\"marker\":{\"line\":{\"color\":\"#E5ECF6\",\"width\":0.5},\"pattern\":{\"fillmode\":\"overlay\",\"size\":10,\"solidity\":0.2}},\"type\":\"bar\"}],\"scattergeo\":[{\"type\":\"scattergeo\",\"marker\":{\"colorbar\":{\"outlinewidth\":0,\"ticks\":\"\"}}}],\"scatterpolar\":[{\"type\":\"scatterpolar\",\"marker\":{\"colorbar\":{\"outlinewidth\":0,\"ticks\":\"\"}}}],\"histogram\":[{\"marker\":{\"pattern\":{\"fillmode\":\"overlay\",\"size\":10,\"solidity\":0.2}},\"type\":\"histogram\"}],\"scattergl\":[{\"type\":\"scattergl\",\"marker\":{\"colorbar\":{\"outlinewidth\":0,\"ticks\":\"\"}}}],\"scatter3d\":[{\"type\":\"scatter3d\",\"line\":{\"colorbar\":{\"outlinewidth\":0,\"ticks\":\"\"}},\"marker\":{\"colorbar\":{\"outlinewidth\":0,\"ticks\":\"\"}}}],\"scattermapbox\":[{\"type\":\"scattermapbox\",\"marker\":{\"colorbar\":{\"outlinewidth\":0,\"ticks\":\"\"}}}],\"scatterternary\":[{\"type\":\"scatterternary\",\"marker\":{\"colorbar\":{\"outlinewidth\":0,\"ticks\":\"\"}}}],\"scattercarpet\":[{\"type\":\"scattercarpet\",\"marker\":{\"colorbar\":{\"outlinewidth\":0,\"ticks\":\"\"}}}],\"carpet\":[{\"aaxis\":{\"endlinecolor\":\"#2a3f5f\",\"gridcolor\":\"white\",\"linecolor\":\"white\",\"minorgridcolor\":\"white\",\"startlinecolor\":\"#2a3f5f\"},\"baxis\":{\"endlinecolor\":\"#2a3f5f\",\"gridcolor\":\"white\",\"linecolor\":\"white\",\"minorgridcolor\":\"white\",\"startlinecolor\":\"#2a3f5f\"},\"type\":\"carpet\"}],\"table\":[{\"cells\":{\"fill\":{\"color\":\"#EBF0F8\"},\"line\":{\"color\":\"white\"}},\"header\":{\"fill\":{\"color\":\"#C8D4E3\"},\"line\":{\"color\":\"white\"}},\"type\":\"table\"}],\"barpolar\":[{\"marker\":{\"line\":{\"color\":\"#E5ECF6\",\"width\":0.5},\"pattern\":{\"fillmode\":\"overlay\",\"size\":10,\"solidity\":0.2}},\"type\":\"barpolar\"}],\"pie\":[{\"automargin\":true,\"type\":\"pie\"}]},\"layout\":{\"autotypenumbers\":\"strict\",\"colorway\":[\"#636efa\",\"#EF553B\",\"#00cc96\",\"#ab63fa\",\"#FFA15A\",\"#19d3f3\",\"#FF6692\",\"#B6E880\",\"#FF97FF\",\"#FECB52\"],\"font\":{\"color\":\"#2a3f5f\"},\"hovermode\":\"closest\",\"hoverlabel\":{\"align\":\"left\"},\"paper_bgcolor\":\"white\",\"plot_bgcolor\":\"#E5ECF6\",\"polar\":{\"bgcolor\":\"#E5ECF6\",\"angularaxis\":{\"gridcolor\":\"white\",\"linecolor\":\"white\",\"ticks\":\"\"},\"radialaxis\":{\"gridcolor\":\"white\",\"linecolor\":\"white\",\"ticks\":\"\"}},\"ternary\":{\"bgcolor\":\"#E5ECF6\",\"aaxis\":{\"gridcolor\":\"white\",\"linecolor\":\"white\",\"ticks\":\"\"},\"baxis\":{\"gridcolor\":\"white\",\"linecolor\":\"white\",\"ticks\":\"\"},\"caxis\":{\"gridcolor\":\"white\",\"linecolor\":\"white\",\"ticks\":\"\"}},\"coloraxis\":{\"colorbar\":{\"outlinewidth\":0,\"ticks\":\"\"}},\"colorscale\":{\"sequential\":[[0.0,\"#0d0887\"],[0.1111111111111111,\"#46039f\"],[0.2222222222222222,\"#7201a8\"],[0.3333333333333333,\"#9c179e\"],[0.4444444444444444,\"#bd3786\"],[0.5555555555555556,\"#d8576b\"],[0.6666666666666666,\"#ed7953\"],[0.7777777777777778,\"#fb9f3a\"],[0.8888888888888888,\"#fdca26\"],[1.0,\"#f0f921\"]],\"sequentialminus\":[[0.0,\"#0d0887\"],[0.1111111111111111,\"#46039f\"],[0.2222222222222222,\"#7201a8\"],[0.3333333333333333,\"#9c179e\"],[0.4444444444444444,\"#bd3786\"],[0.5555555555555556,\"#d8576b\"],[0.6666666666666666,\"#ed7953\"],[0.7777777777777778,\"#fb9f3a\"],[0.8888888888888888,\"#fdca26\"],[1.0,\"#f0f921\"]],\"diverging\":[[0,\"#8e0152\"],[0.1,\"#c51b7d\"],[0.2,\"#de77ae\"],[0.3,\"#f1b6da\"],[0.4,\"#fde0ef\"],[0.5,\"#f7f7f7\"],[0.6,\"#e6f5d0\"],[0.7,\"#b8e186\"],[0.8,\"#7fbc41\"],[0.9,\"#4d9221\"],[1,\"#276419\"]]},\"xaxis\":{\"gridcolor\":\"white\",\"linecolor\":\"white\",\"ticks\":\"\",\"title\":{\"standoff\":15},\"zerolinecolor\":\"white\",\"automargin\":true,\"zerolinewidth\":2},\"yaxis\":{\"gridcolor\":\"white\",\"linecolor\":\"white\",\"ticks\":\"\",\"title\":{\"standoff\":15},\"zerolinecolor\":\"white\",\"automargin\":true,\"zerolinewidth\":2},\"scene\":{\"xaxis\":{\"backgroundcolor\":\"#E5ECF6\",\"gridcolor\":\"white\",\"linecolor\":\"white\",\"showbackground\":true,\"ticks\":\"\",\"zerolinecolor\":\"white\",\"gridwidth\":2},\"yaxis\":{\"backgroundcolor\":\"#E5ECF6\",\"gridcolor\":\"white\",\"linecolor\":\"white\",\"showbackground\":true,\"ticks\":\"\",\"zerolinecolor\":\"white\",\"gridwidth\":2},\"zaxis\":{\"backgroundcolor\":\"#E5ECF6\",\"gridcolor\":\"white\",\"linecolor\":\"white\",\"showbackground\":true,\"ticks\":\"\",\"zerolinecolor\":\"white\",\"gridwidth\":2}},\"shapedefaults\":{\"line\":{\"color\":\"#2a3f5f\"}},\"annotationdefaults\":{\"arrowcolor\":\"#2a3f5f\",\"arrowhead\":0,\"arrowwidth\":1},\"geo\":{\"bgcolor\":\"white\",\"landcolor\":\"#E5ECF6\",\"subunitcolor\":\"white\",\"showland\":true,\"showlakes\":true,\"lakecolor\":\"white\"},\"title\":{\"x\":0.05},\"mapbox\":{\"style\":\"light\"}}}},                        {\"responsive\": true}                    ).then(function(){\n",
       "                            \n",
       "var gd = document.getElementById('a3e417d1-90f2-4c30-85e1-019a8200a928');\n",
       "var x = new MutationObserver(function (mutations, observer) {{\n",
       "        var display = window.getComputedStyle(gd).display;\n",
       "        if (!display || display === 'none') {{\n",
       "            console.log([gd, 'removed!']);\n",
       "            Plotly.purge(gd);\n",
       "            observer.disconnect();\n",
       "        }}\n",
       "}});\n",
       "\n",
       "// Listen for the removal of the full notebook cells\n",
       "var notebookContainer = gd.closest('#notebook-container');\n",
       "if (notebookContainer) {{\n",
       "    x.observe(notebookContainer, {childList: true});\n",
       "}}\n",
       "\n",
       "// Listen for the clearing of the current output cell\n",
       "var outputEl = gd.closest('.output');\n",
       "if (outputEl) {{\n",
       "    x.observe(outputEl, {childList: true});\n",
       "}}\n",
       "\n",
       "                        })                };                });            </script>        </div>"
      ]
     },
     "metadata": {},
     "output_type": "display_data"
    }
   ],
   "source": [
    "go.Figure(\n",
    "    go.Scatter(x=y, y=model.predict(X))\n",
    ")"
   ]
  }
 ],
 "metadata": {
  "kernelspec": {
   "display_name": "Python 3 (ipykernel)",
   "language": "python",
   "name": "python3"
  },
  "language_info": {
   "codemirror_mode": {
    "name": "ipython",
    "version": 3
   },
   "file_extension": ".py",
   "mimetype": "text/x-python",
   "name": "python",
   "nbconvert_exporter": "python",
   "pygments_lexer": "ipython3",
   "version": "3.11.6"
  }
 },
 "nbformat": 4,
 "nbformat_minor": 5
}
